{
 "cells": [
  {
   "cell_type": "code",
   "execution_count": 1,
   "id": "4245b06f",
   "metadata": {
    "_cell_guid": "b1076dfc-b9ad-4769-8c92-a6c4dae69d19",
    "_uuid": "8f2839f25d086af736a60e9eeb907d3b93b6e0e5",
    "execution": {
     "iopub.execute_input": "2021-10-31T03:12:32.577340Z",
     "iopub.status.busy": "2021-10-31T03:12:32.575855Z",
     "iopub.status.idle": "2021-10-31T03:12:32.658773Z",
     "shell.execute_reply": "2021-10-31T03:12:32.659190Z",
     "shell.execute_reply.started": "2021-10-30T11:41:45.390659Z"
    },
    "papermill": {
     "duration": 0.119075,
     "end_time": "2021-10-31T03:12:32.659463",
     "exception": false,
     "start_time": "2021-10-31T03:12:32.540388",
     "status": "completed"
    },
    "tags": []
   },
   "outputs": [
    {
     "name": "stdout",
     "output_type": "stream",
     "text": [
      "/kaggle/input/ventilator-pressure-prediction/sample_submission.csv\n",
      "/kaggle/input/ventilator-pressure-prediction/train.csv\n",
      "/kaggle/input/ventilator-pressure-prediction/test.csv\n"
     ]
    }
   ],
   "source": [
    "# This Python 3 environment comes with many helpful analytics libraries installed\n",
    "# It is defined by the kaggle/python Docker image: https://github.com/kaggle/docker-python\n",
    "# For example, here's several helpful packages to load\n",
    "\n",
    "import numpy as np # linear algebra\n",
    "import pandas as pd # data processing, CSV file I/O (e.g. pd.read_csv)\n",
    "\n",
    "# Input data files are available in the read-only \"../input/\" directory\n",
    "# For example, running this (by clicking run or pressing Shift+Enter) will list all files under the input directory\n",
    "\n",
    "import os\n",
    "for dirname, _, filenames in os.walk('/kaggle/input'):\n",
    "    for filename in filenames:\n",
    "        print(os.path.join(dirname, filename))\n",
    "\n",
    "# You can write up to 20GB to the current directory (/kaggle/working/) that gets preserved as output when you create a version using \"Save & Run All\" \n",
    "# You can also write temporary files to /kaggle/temp/, but they won't be saved outside of the current session"
   ]
  },
  {
   "cell_type": "markdown",
   "id": "91248a0e",
   "metadata": {
    "papermill": {
     "duration": 0.028747,
     "end_time": "2021-10-31T03:12:32.719583",
     "exception": false,
     "start_time": "2021-10-31T03:12:32.690836",
     "status": "completed"
    },
    "tags": []
   },
   "source": [
    "![](https://raw.githubusercontent.com/google/deluca-lung/main/assets/2020-10-02%20Ventilator%20diagram.svg)"
   ]
  },
  {
   "cell_type": "code",
   "execution_count": 2,
   "id": "ac9e387c",
   "metadata": {
    "execution": {
     "iopub.execute_input": "2021-10-31T03:12:32.783019Z",
     "iopub.status.busy": "2021-10-31T03:12:32.782323Z",
     "iopub.status.idle": "2021-10-31T03:12:37.914106Z",
     "shell.execute_reply": "2021-10-31T03:12:37.913128Z",
     "shell.execute_reply.started": "2021-10-29T06:17:08.934131Z"
    },
    "papermill": {
     "duration": 5.165833,
     "end_time": "2021-10-31T03:12:37.914244",
     "exception": false,
     "start_time": "2021-10-31T03:12:32.748411",
     "status": "completed"
    },
    "tags": []
   },
   "outputs": [
    {
     "name": "stderr",
     "output_type": "stream",
     "text": [
      "2021-10-31 03:12:34.089155: I tensorflow/stream_executor/platform/default/dso_loader.cc:49] Successfully opened dynamic library libcudart.so.11.0\n"
     ]
    }
   ],
   "source": [
    "import numpy as np\n",
    "import pandas as pd\n",
    "import matplotlib.pyplot as plt\n",
    "import seaborn as sns\n",
    "sns.set_style('darkgrid')\n",
    "import warnings\n",
    "warnings.filterwarnings('ignore')\n",
    "pd.set_option('display.max_columns', None)\n",
    "from tensorflow import keras\n",
    "from tensorflow.keras.callbacks import EarlyStopping, ModelCheckpoint\n",
    "from tensorflow.keras.callbacks import LearningRateScheduler, ReduceLROnPlateau\n",
    "from sklearn.metrics import mean_absolute_error as mae"
   ]
  },
  {
   "cell_type": "markdown",
   "id": "3c54097c",
   "metadata": {
    "papermill": {
     "duration": 0.029893,
     "end_time": "2021-10-31T03:12:37.973964",
     "exception": false,
     "start_time": "2021-10-31T03:12:37.944071",
     "status": "completed"
    },
    "tags": []
   },
   "source": [
    "### As previous versions failed because of my notebook tried to allocate more memory than is available.\n",
    "> This function helps in reducing memory usage by changing unnecessary data type.\n",
    "\n",
    "> You could learn more about it [here](https://www.kaggle.com/questions-and-answers/282144)"
   ]
  },
  {
   "cell_type": "code",
   "execution_count": 3,
   "id": "0ff9d386",
   "metadata": {
    "execution": {
     "iopub.execute_input": "2021-10-31T03:12:38.047645Z",
     "iopub.status.busy": "2021-10-31T03:12:38.047057Z",
     "iopub.status.idle": "2021-10-31T03:12:38.051157Z",
     "shell.execute_reply": "2021-10-31T03:12:38.050411Z",
     "shell.execute_reply.started": "2021-10-29T06:17:09.793779Z"
    },
    "papermill": {
     "duration": 0.048045,
     "end_time": "2021-10-31T03:12:38.051278",
     "exception": false,
     "start_time": "2021-10-31T03:12:38.003233",
     "status": "completed"
    },
    "tags": []
   },
   "outputs": [],
   "source": [
    "def reduce_memory_usage(df):\n",
    "    \"\"\" iterate through all the columns of a dataframe and modify the data type\n",
    "        to reduce memory usage.        \n",
    "    \"\"\"\n",
    "    start_mem = df.memory_usage().sum() / 1024**2\n",
    "    print('Memory usage of dataframe is {:.2f} MB'.format(start_mem))    \n",
    "\n",
    "    for col in df.columns:\n",
    "        col_type = df[col].dtype\n",
    "\n",
    "        if col_type != object:\n",
    "            c_min = df[col].min()\n",
    "            c_max = df[col].max()\n",
    "            if str(col_type)[:3] == 'int':\n",
    "                if c_min > np.iinfo(np.int8).min and c_max < np.iinfo(np.int8).max:\n",
    "                    df[col] = df[col].astype(np.int8)\n",
    "                elif c_min > np.iinfo(np.int16).min and c_max < np.iinfo(np.int16).max:\n",
    "                    df[col] = df[col].astype(np.int16)\n",
    "                elif c_min > np.iinfo(np.int32).min and c_max < np.iinfo(np.int32).max:\n",
    "                    df[col] = df[col].astype(np.int32)\n",
    "                elif c_min > np.iinfo(np.int64).min and c_max < np.iinfo(np.int64).max:\n",
    "                    df[col] = df[col].astype(np.int64)  \n",
    "            else:\n",
    "                if c_min > np.finfo(np.float16).min and c_max < np.finfo(np.float16).max:\n",
    "                    df[col] = df[col].astype(np.float16)\n",
    "                elif c_min > np.finfo(np.float32).min and c_max < np.finfo(np.float32).max:\n",
    "                    df[col] = df[col].astype(np.float32)\n",
    "                else:\n",
    "                    df[col] = df[col].astype(np.float64)\n",
    "        else:\n",
    "            df[col] = df[col].astype('category')\n",
    "\n",
    "    end_mem = df.memory_usage().sum() / 1024**2\n",
    "    print('Memory usage after optimization is: {:.2f} MB'.format(end_mem))\n",
    "    print('Decreased by {:.1f}%'.format(100 * (start_mem - end_mem) / start_mem))\n",
    "\n",
    "    return df"
   ]
  },
  {
   "cell_type": "code",
   "execution_count": 4,
   "id": "aef0471c",
   "metadata": {
    "execution": {
     "iopub.execute_input": "2021-10-31T03:12:38.113841Z",
     "iopub.status.busy": "2021-10-31T03:12:38.113044Z",
     "iopub.status.idle": "2021-10-31T03:12:46.106957Z",
     "shell.execute_reply": "2021-10-31T03:12:46.107433Z",
     "shell.execute_reply.started": "2021-10-29T06:17:09.81535Z"
    },
    "papermill": {
     "duration": 8.027282,
     "end_time": "2021-10-31T03:12:46.107584",
     "exception": false,
     "start_time": "2021-10-31T03:12:38.080302",
     "status": "completed"
    },
    "tags": []
   },
   "outputs": [
    {
     "name": "stdout",
     "output_type": "stream",
     "text": [
      "Memory usage of dataframe is 368.41 MB\n",
      "Memory usage after optimization is: 97.86 MB\n",
      "Decreased by 73.4%\n"
     ]
    },
    {
     "data": {
      "text/html": [
       "<div>\n",
       "<style scoped>\n",
       "    .dataframe tbody tr th:only-of-type {\n",
       "        vertical-align: middle;\n",
       "    }\n",
       "\n",
       "    .dataframe tbody tr th {\n",
       "        vertical-align: top;\n",
       "    }\n",
       "\n",
       "    .dataframe thead th {\n",
       "        text-align: right;\n",
       "    }\n",
       "</style>\n",
       "<table border=\"1\" class=\"dataframe\">\n",
       "  <thead>\n",
       "    <tr style=\"text-align: right;\">\n",
       "      <th></th>\n",
       "      <th>id</th>\n",
       "      <th>breath_id</th>\n",
       "      <th>R</th>\n",
       "      <th>C</th>\n",
       "      <th>time_step</th>\n",
       "      <th>u_in</th>\n",
       "      <th>u_out</th>\n",
       "      <th>pressure</th>\n",
       "    </tr>\n",
       "  </thead>\n",
       "  <tbody>\n",
       "    <tr>\n",
       "      <th>0</th>\n",
       "      <td>1</td>\n",
       "      <td>1</td>\n",
       "      <td>20</td>\n",
       "      <td>50</td>\n",
       "      <td>0.000000</td>\n",
       "      <td>0.083313</td>\n",
       "      <td>0</td>\n",
       "      <td>5.835938</td>\n",
       "    </tr>\n",
       "    <tr>\n",
       "      <th>1</th>\n",
       "      <td>2</td>\n",
       "      <td>1</td>\n",
       "      <td>20</td>\n",
       "      <td>50</td>\n",
       "      <td>0.033661</td>\n",
       "      <td>18.390625</td>\n",
       "      <td>0</td>\n",
       "      <td>5.906250</td>\n",
       "    </tr>\n",
       "    <tr>\n",
       "      <th>2</th>\n",
       "      <td>3</td>\n",
       "      <td>1</td>\n",
       "      <td>20</td>\n",
       "      <td>50</td>\n",
       "      <td>0.067505</td>\n",
       "      <td>22.515625</td>\n",
       "      <td>0</td>\n",
       "      <td>7.875000</td>\n",
       "    </tr>\n",
       "    <tr>\n",
       "      <th>3</th>\n",
       "      <td>4</td>\n",
       "      <td>1</td>\n",
       "      <td>20</td>\n",
       "      <td>50</td>\n",
       "      <td>0.101562</td>\n",
       "      <td>22.812500</td>\n",
       "      <td>0</td>\n",
       "      <td>11.742188</td>\n",
       "    </tr>\n",
       "    <tr>\n",
       "      <th>4</th>\n",
       "      <td>5</td>\n",
       "      <td>1</td>\n",
       "      <td>20</td>\n",
       "      <td>50</td>\n",
       "      <td>0.135742</td>\n",
       "      <td>25.359375</td>\n",
       "      <td>0</td>\n",
       "      <td>12.234375</td>\n",
       "    </tr>\n",
       "  </tbody>\n",
       "</table>\n",
       "</div>"
      ],
      "text/plain": [
       "   id  breath_id   R   C  time_step       u_in  u_out   pressure\n",
       "0   1          1  20  50   0.000000   0.083313      0   5.835938\n",
       "1   2          1  20  50   0.033661  18.390625      0   5.906250\n",
       "2   3          1  20  50   0.067505  22.515625      0   7.875000\n",
       "3   4          1  20  50   0.101562  22.812500      0  11.742188\n",
       "4   5          1  20  50   0.135742  25.359375      0  12.234375"
      ]
     },
     "execution_count": 4,
     "metadata": {},
     "output_type": "execute_result"
    }
   ],
   "source": [
    "data = pd.read_csv('../input/ventilator-pressure-prediction/train.csv')\n",
    "data = reduce_memory_usage(data)\n",
    "data.head()"
   ]
  },
  {
   "cell_type": "markdown",
   "id": "25170ac3",
   "metadata": {
    "papermill": {
     "duration": 0.030286,
     "end_time": "2021-10-31T03:12:46.168432",
     "exception": false,
     "start_time": "2021-10-31T03:12:46.138146",
     "status": "completed"
    },
    "tags": []
   },
   "source": [
    "## Columns\n",
    "**id** - globally-unique time step identifier across an entire file\n",
    "\n",
    "**breath_id** - globally-unique time step for breaths\n",
    "\n",
    "**R** - lung attribute indicating how restricted the airway is (in cmH2O/L/S). Physically, this is the change in pressure per change in flow (air volume per time). Intuitively, one can imagine blowing up a balloon through a straw. We can change R by changing the diameter of the straw, with higher R being harder to blow.\n",
    "\n",
    "**C** - lung attribute indicating how compliant the lung is (in mL/cmH2O). Physically, this is the change in volume per change in pressure. Intuitively, one can imagine the same balloon example. We can change C by changing the thickness of the balloon’s latex, with higher C having thinner latex and easier to blow.\n",
    "time_step - the actual time stamp.\n",
    "\n",
    "**u_in** - the control input for the inspiratory solenoid valve. Ranges from 0 to 100.\n",
    "\n",
    "**u_out** - the control input for the exploratory solenoid valve. Either 0 or 1.\n",
    "\n",
    "**pressure** - the airway pressure measured in the respiratory circuit, measured in cmH2O."
   ]
  },
  {
   "cell_type": "code",
   "execution_count": 5,
   "id": "56bcf9b8",
   "metadata": {
    "execution": {
     "iopub.execute_input": "2021-10-31T03:12:46.234200Z",
     "iopub.status.busy": "2021-10-31T03:12:46.233421Z",
     "iopub.status.idle": "2021-10-31T03:12:46.236018Z",
     "shell.execute_reply": "2021-10-31T03:12:46.236425Z",
     "shell.execute_reply.started": "2021-10-29T06:17:19.42081Z"
    },
    "papermill": {
     "duration": 0.03836,
     "end_time": "2021-10-31T03:12:46.236555",
     "exception": false,
     "start_time": "2021-10-31T03:12:46.198195",
     "status": "completed"
    },
    "tags": []
   },
   "outputs": [
    {
     "data": {
      "text/plain": [
       "(6036000, 8)"
      ]
     },
     "execution_count": 5,
     "metadata": {},
     "output_type": "execute_result"
    }
   ],
   "source": [
    "data.shape"
   ]
  },
  {
   "cell_type": "code",
   "execution_count": 6,
   "id": "dd0c6afc",
   "metadata": {
    "execution": {
     "iopub.execute_input": "2021-10-31T03:12:46.301284Z",
     "iopub.status.busy": "2021-10-31T03:12:46.300333Z",
     "iopub.status.idle": "2021-10-31T03:12:46.397173Z",
     "shell.execute_reply": "2021-10-31T03:12:46.397622Z",
     "shell.execute_reply.started": "2021-10-29T06:17:19.43062Z"
    },
    "papermill": {
     "duration": 0.130745,
     "end_time": "2021-10-31T03:12:46.397780",
     "exception": false,
     "start_time": "2021-10-31T03:12:46.267035",
     "status": "completed"
    },
    "tags": []
   },
   "outputs": [
    {
     "data": {
      "text/plain": [
       "id           0\n",
       "breath_id    0\n",
       "R            0\n",
       "C            0\n",
       "time_step    0\n",
       "u_in         0\n",
       "u_out        0\n",
       "pressure     0\n",
       "dtype: int64"
      ]
     },
     "execution_count": 6,
     "metadata": {},
     "output_type": "execute_result"
    }
   ],
   "source": [
    "data.isnull().sum()"
   ]
  },
  {
   "cell_type": "markdown",
   "id": "9c7ab178",
   "metadata": {
    "papermill": {
     "duration": 0.030386,
     "end_time": "2021-10-31T03:12:46.459104",
     "exception": false,
     "start_time": "2021-10-31T03:12:46.428718",
     "status": "completed"
    },
    "tags": []
   },
   "source": [
    "> There is no null value"
   ]
  },
  {
   "cell_type": "code",
   "execution_count": 7,
   "id": "f7e86a8d",
   "metadata": {
    "execution": {
     "iopub.execute_input": "2021-10-31T03:12:46.533957Z",
     "iopub.status.busy": "2021-10-31T03:12:46.533278Z",
     "iopub.status.idle": "2021-10-31T03:12:46.537109Z",
     "shell.execute_reply": "2021-10-31T03:12:46.536704Z",
     "shell.execute_reply.started": "2021-10-29T06:17:19.562091Z"
    },
    "papermill": {
     "duration": 0.047547,
     "end_time": "2021-10-31T03:12:46.537219",
     "exception": false,
     "start_time": "2021-10-31T03:12:46.489672",
     "status": "completed"
    },
    "tags": []
   },
   "outputs": [
    {
     "name": "stdout",
     "output_type": "stream",
     "text": [
      "<class 'pandas.core.frame.DataFrame'>\n",
      "RangeIndex: 6036000 entries, 0 to 6035999\n",
      "Data columns (total 8 columns):\n",
      " #   Column     Dtype  \n",
      "---  ------     -----  \n",
      " 0   id         int32  \n",
      " 1   breath_id  int32  \n",
      " 2   R          int8   \n",
      " 3   C          int8   \n",
      " 4   time_step  float16\n",
      " 5   u_in       float16\n",
      " 6   u_out      int8   \n",
      " 7   pressure   float16\n",
      "dtypes: float16(3), int32(2), int8(3)\n",
      "memory usage: 97.9 MB\n"
     ]
    }
   ],
   "source": [
    "data.info()"
   ]
  },
  {
   "cell_type": "code",
   "execution_count": 8,
   "id": "2b6380a8",
   "metadata": {
    "execution": {
     "iopub.execute_input": "2021-10-31T03:12:46.618194Z",
     "iopub.status.busy": "2021-10-31T03:12:46.617401Z",
     "iopub.status.idle": "2021-10-31T03:12:49.535178Z",
     "shell.execute_reply": "2021-10-31T03:12:49.535842Z",
     "shell.execute_reply.started": "2021-10-29T06:17:19.581213Z"
    },
    "papermill": {
     "duration": 2.966537,
     "end_time": "2021-10-31T03:12:49.536004",
     "exception": false,
     "start_time": "2021-10-31T03:12:46.569467",
     "status": "completed"
    },
    "tags": []
   },
   "outputs": [
    {
     "data": {
      "text/html": [
       "<div>\n",
       "<style scoped>\n",
       "    .dataframe tbody tr th:only-of-type {\n",
       "        vertical-align: middle;\n",
       "    }\n",
       "\n",
       "    .dataframe tbody tr th {\n",
       "        vertical-align: top;\n",
       "    }\n",
       "\n",
       "    .dataframe thead th {\n",
       "        text-align: right;\n",
       "    }\n",
       "</style>\n",
       "<table border=\"1\" class=\"dataframe\">\n",
       "  <thead>\n",
       "    <tr style=\"text-align: right;\">\n",
       "      <th></th>\n",
       "      <th>id</th>\n",
       "      <th>breath_id</th>\n",
       "      <th>R</th>\n",
       "      <th>C</th>\n",
       "      <th>time_step</th>\n",
       "      <th>u_in</th>\n",
       "      <th>u_out</th>\n",
       "      <th>pressure</th>\n",
       "    </tr>\n",
       "  </thead>\n",
       "  <tbody>\n",
       "    <tr>\n",
       "      <th>count</th>\n",
       "      <td>6.036000e+06</td>\n",
       "      <td>6.036000e+06</td>\n",
       "      <td>6.036000e+06</td>\n",
       "      <td>6.036000e+06</td>\n",
       "      <td>6.036000e+06</td>\n",
       "      <td>6.036000e+06</td>\n",
       "      <td>6.036000e+06</td>\n",
       "      <td>6.036000e+06</td>\n",
       "    </tr>\n",
       "    <tr>\n",
       "      <th>mean</th>\n",
       "      <td>3.018000e+06</td>\n",
       "      <td>6.283886e+04</td>\n",
       "      <td>2.703618e+01</td>\n",
       "      <td>2.608072e+01</td>\n",
       "      <td>NaN</td>\n",
       "      <td>NaN</td>\n",
       "      <td>6.204493e-01</td>\n",
       "      <td>NaN</td>\n",
       "    </tr>\n",
       "    <tr>\n",
       "      <th>std</th>\n",
       "      <td>1.742443e+06</td>\n",
       "      <td>3.633526e+04</td>\n",
       "      <td>1.959549e+01</td>\n",
       "      <td>1.715231e+01</td>\n",
       "      <td>0.000000e+00</td>\n",
       "      <td>0.000000e+00</td>\n",
       "      <td>4.852752e-01</td>\n",
       "      <td>0.000000e+00</td>\n",
       "    </tr>\n",
       "    <tr>\n",
       "      <th>min</th>\n",
       "      <td>1.000000e+00</td>\n",
       "      <td>1.000000e+00</td>\n",
       "      <td>5.000000e+00</td>\n",
       "      <td>1.000000e+01</td>\n",
       "      <td>0.000000e+00</td>\n",
       "      <td>0.000000e+00</td>\n",
       "      <td>0.000000e+00</td>\n",
       "      <td>-1.895508e+00</td>\n",
       "    </tr>\n",
       "    <tr>\n",
       "      <th>25%</th>\n",
       "      <td>1.509001e+06</td>\n",
       "      <td>3.137700e+04</td>\n",
       "      <td>5.000000e+00</td>\n",
       "      <td>1.000000e+01</td>\n",
       "      <td>6.430664e-01</td>\n",
       "      <td>3.935547e-01</td>\n",
       "      <td>0.000000e+00</td>\n",
       "      <td>6.328125e+00</td>\n",
       "    </tr>\n",
       "    <tr>\n",
       "      <th>50%</th>\n",
       "      <td>3.018000e+06</td>\n",
       "      <td>6.276550e+04</td>\n",
       "      <td>2.000000e+01</td>\n",
       "      <td>2.000000e+01</td>\n",
       "      <td>1.308594e+00</td>\n",
       "      <td>4.386719e+00</td>\n",
       "      <td>1.000000e+00</td>\n",
       "      <td>7.031250e+00</td>\n",
       "    </tr>\n",
       "    <tr>\n",
       "      <th>75%</th>\n",
       "      <td>4.527000e+06</td>\n",
       "      <td>9.430100e+04</td>\n",
       "      <td>5.000000e+01</td>\n",
       "      <td>5.000000e+01</td>\n",
       "      <td>1.965820e+00</td>\n",
       "      <td>4.984375e+00</td>\n",
       "      <td>1.000000e+00</td>\n",
       "      <td>1.364062e+01</td>\n",
       "    </tr>\n",
       "    <tr>\n",
       "      <th>max</th>\n",
       "      <td>6.036000e+06</td>\n",
       "      <td>1.257490e+05</td>\n",
       "      <td>5.000000e+01</td>\n",
       "      <td>5.000000e+01</td>\n",
       "      <td>2.937500e+00</td>\n",
       "      <td>1.000000e+02</td>\n",
       "      <td>1.000000e+00</td>\n",
       "      <td>6.481250e+01</td>\n",
       "    </tr>\n",
       "  </tbody>\n",
       "</table>\n",
       "</div>"
      ],
      "text/plain": [
       "                 id     breath_id             R             C     time_step  \\\n",
       "count  6.036000e+06  6.036000e+06  6.036000e+06  6.036000e+06  6.036000e+06   \n",
       "mean   3.018000e+06  6.283886e+04  2.703618e+01  2.608072e+01           NaN   \n",
       "std    1.742443e+06  3.633526e+04  1.959549e+01  1.715231e+01  0.000000e+00   \n",
       "min    1.000000e+00  1.000000e+00  5.000000e+00  1.000000e+01  0.000000e+00   \n",
       "25%    1.509001e+06  3.137700e+04  5.000000e+00  1.000000e+01  6.430664e-01   \n",
       "50%    3.018000e+06  6.276550e+04  2.000000e+01  2.000000e+01  1.308594e+00   \n",
       "75%    4.527000e+06  9.430100e+04  5.000000e+01  5.000000e+01  1.965820e+00   \n",
       "max    6.036000e+06  1.257490e+05  5.000000e+01  5.000000e+01  2.937500e+00   \n",
       "\n",
       "               u_in         u_out      pressure  \n",
       "count  6.036000e+06  6.036000e+06  6.036000e+06  \n",
       "mean            NaN  6.204493e-01           NaN  \n",
       "std    0.000000e+00  4.852752e-01  0.000000e+00  \n",
       "min    0.000000e+00  0.000000e+00 -1.895508e+00  \n",
       "25%    3.935547e-01  0.000000e+00  6.328125e+00  \n",
       "50%    4.386719e+00  1.000000e+00  7.031250e+00  \n",
       "75%    4.984375e+00  1.000000e+00  1.364062e+01  \n",
       "max    1.000000e+02  1.000000e+00  6.481250e+01  "
      ]
     },
     "execution_count": 8,
     "metadata": {},
     "output_type": "execute_result"
    }
   ],
   "source": [
    "data.describe()"
   ]
  },
  {
   "cell_type": "code",
   "execution_count": 9,
   "id": "63078b04",
   "metadata": {
    "execution": {
     "iopub.execute_input": "2021-10-31T03:12:49.604851Z",
     "iopub.status.busy": "2021-10-31T03:12:49.603986Z",
     "iopub.status.idle": "2021-10-31T03:12:51.169125Z",
     "shell.execute_reply": "2021-10-31T03:12:51.168582Z",
     "shell.execute_reply.started": "2021-10-29T06:17:22.593738Z"
    },
    "papermill": {
     "duration": 1.60137,
     "end_time": "2021-10-31T03:12:51.169252",
     "exception": false,
     "start_time": "2021-10-31T03:12:49.567882",
     "status": "completed"
    },
    "tags": []
   },
   "outputs": [
    {
     "data": {
      "text/plain": [
       "<AxesSubplot:>"
      ]
     },
     "execution_count": 9,
     "metadata": {},
     "output_type": "execute_result"
    },
    {
     "data": {
      "image/png": "[encoded data removed]",
      "text/plain": [
       "<Figure size 576x432 with 2 Axes>"
      ]
     },
     "metadata": {},
     "output_type": "display_data"
    }
   ],
   "source": [
    "plt.figure(figsize=(8,6))\n",
    "sns.heatmap(data.corr(), cmap='cool')"
   ]
  },
  {
   "cell_type": "markdown",
   "id": "f9849bd9",
   "metadata": {
    "papermill": {
     "duration": 0.063709,
     "end_time": "2021-10-31T03:12:51.286676",
     "exception": false,
     "start_time": "2021-10-31T03:12:51.222967",
     "status": "completed"
    },
    "tags": []
   },
   "source": [
    "We can see a strong correaltion between :\n",
    "> 'pressure' and 'time_step'\n",
    "\n",
    "> 'pressure' and 'u_out'"
   ]
  },
  {
   "cell_type": "markdown",
   "id": "b599212c",
   "metadata": {
    "papermill": {
     "duration": 0.06016,
     "end_time": "2021-10-31T03:12:51.409052",
     "exception": false,
     "start_time": "2021-10-31T03:12:51.348892",
     "status": "completed"
    },
    "tags": []
   },
   "source": [
    "## Splitting of categorical and numerical data."
   ]
  },
  {
   "cell_type": "markdown",
   "id": "483a23d9",
   "metadata": {
    "papermill": {
     "duration": 0.052099,
     "end_time": "2021-10-31T03:12:51.513631",
     "exception": false,
     "start_time": "2021-10-31T03:12:51.461532",
     "status": "completed"
    },
    "tags": []
   },
   "source": [
    "![](https://bookdown.org/ejvanholm/Text-Quant/images/DataTypes.png)"
   ]
  },
  {
   "cell_type": "code",
   "execution_count": 10,
   "id": "9cf3bbcc",
   "metadata": {
    "execution": {
     "iopub.execute_input": "2021-10-31T03:12:51.630408Z",
     "iopub.status.busy": "2021-10-31T03:12:51.626557Z",
     "iopub.status.idle": "2021-10-31T03:12:53.259841Z",
     "shell.execute_reply": "2021-10-31T03:12:53.259404Z",
     "shell.execute_reply.started": "2021-10-29T06:17:24.725829Z"
    },
    "papermill": {
     "duration": 1.695193,
     "end_time": "2021-10-31T03:12:53.259967",
     "exception": false,
     "start_time": "2021-10-31T03:12:51.564774",
     "status": "completed"
    },
    "tags": []
   },
   "outputs": [
    {
     "name": "stdout",
     "output_type": "stream",
     "text": [
      "categorical columns: ['R', 'C', 'u_out']\n",
      "numerical columns: ['id', 'breath_id', 'time_step', 'u_in', 'pressure']\n"
     ]
    }
   ],
   "source": [
    "cat_col = []\n",
    "num_col = []\n",
    "for i in data.columns:\n",
    "    if data[i].value_counts().count() > 10:\n",
    "        num_col.append(i)\n",
    "    else:\n",
    "        cat_col.append(i)\n",
    "print(f'categorical columns: {cat_col}')\n",
    "print(f'numerical columns: {num_col}')"
   ]
  },
  {
   "cell_type": "markdown",
   "id": "9333407e",
   "metadata": {
    "papermill": {
     "duration": 0.033334,
     "end_time": "2021-10-31T03:12:53.327038",
     "exception": false,
     "start_time": "2021-10-31T03:12:53.293704",
     "status": "completed"
    },
    "tags": []
   },
   "source": [
    "#### Categorical Data"
   ]
  },
  {
   "cell_type": "code",
   "execution_count": 11,
   "id": "b5184368",
   "metadata": {
    "execution": {
     "iopub.execute_input": "2021-10-31T03:12:53.411038Z",
     "iopub.status.busy": "2021-10-31T03:12:53.410222Z",
     "iopub.status.idle": "2021-10-31T03:12:55.029032Z",
     "shell.execute_reply": "2021-10-31T03:12:55.028328Z",
     "shell.execute_reply.started": "2021-10-29T06:17:26.772761Z"
    },
    "papermill": {
     "duration": 1.669498,
     "end_time": "2021-10-31T03:12:55.029162",
     "exception": false,
     "start_time": "2021-10-31T03:12:53.359664",
     "status": "completed"
    },
    "tags": []
   },
   "outputs": [
    {
     "data": {
      "text/plain": [
       "Text(0.5, 0.98, 'Countplot of Categorical Data')"
      ]
     },
     "execution_count": 11,
     "metadata": {},
     "output_type": "execute_result"
    },
    {
     "data": {
      "image/png": "[encoded data removed]",
      "text/plain": [
       "<Figure size 864x360 with 3 Axes>"
      ]
     },
     "metadata": {},
     "output_type": "display_data"
    }
   ],
   "source": [
    "fig, ax = plt.subplots(1,3,figsize=(12,5))\n",
    "j=0\n",
    "for i in cat_col:\n",
    "    sns.countplot(data[i], palette='cool', ax=ax[j])\n",
    "    j+=1\n",
    "fig.suptitle('Countplot of Categorical Data')"
   ]
  },
  {
   "cell_type": "markdown",
   "id": "4c588d8a",
   "metadata": {
    "papermill": {
     "duration": 0.033867,
     "end_time": "2021-10-31T03:12:55.097538",
     "exception": false,
     "start_time": "2021-10-31T03:12:55.063671",
     "status": "completed"
    },
    "tags": []
   },
   "source": [
    "#### Numerical Data"
   ]
  },
  {
   "cell_type": "markdown",
   "id": "89b4b553",
   "metadata": {
    "papermill": {
     "duration": 0.033689,
     "end_time": "2021-10-31T03:12:55.164843",
     "exception": false,
     "start_time": "2021-10-31T03:12:55.131154",
     "status": "completed"
    },
    "tags": []
   },
   "source": [
    "Removing 'id' and 'breath_id' from numerical column list."
   ]
  },
  {
   "cell_type": "code",
   "execution_count": 12,
   "id": "2b23953e",
   "metadata": {
    "execution": {
     "iopub.execute_input": "2021-10-31T03:12:55.237136Z",
     "iopub.status.busy": "2021-10-31T03:12:55.236614Z",
     "iopub.status.idle": "2021-10-31T03:12:55.238981Z",
     "shell.execute_reply": "2021-10-31T03:12:55.239390Z",
     "shell.execute_reply.started": "2021-10-29T06:17:28.890676Z"
    },
    "papermill": {
     "duration": 0.041114,
     "end_time": "2021-10-31T03:12:55.239514",
     "exception": false,
     "start_time": "2021-10-31T03:12:55.198400",
     "status": "completed"
    },
    "tags": []
   },
   "outputs": [
    {
     "data": {
      "text/plain": [
       "['time_step', 'u_in', 'pressure']"
      ]
     },
     "execution_count": 12,
     "metadata": {},
     "output_type": "execute_result"
    }
   ],
   "source": [
    "num_col = num_col[2:]\n",
    "num_col"
   ]
  },
  {
   "cell_type": "code",
   "execution_count": 13,
   "id": "aeca95ac",
   "metadata": {
    "execution": {
     "iopub.execute_input": "2021-10-31T03:12:55.318261Z",
     "iopub.status.busy": "2021-10-31T03:12:55.317523Z",
     "iopub.status.idle": "2021-10-31T03:13:17.891685Z",
     "shell.execute_reply": "2021-10-31T03:13:17.891204Z",
     "shell.execute_reply.started": "2021-10-29T06:17:28.908757Z"
    },
    "papermill": {
     "duration": 22.618132,
     "end_time": "2021-10-31T03:13:17.891833",
     "exception": false,
     "start_time": "2021-10-31T03:12:55.273701",
     "status": "completed"
    },
    "tags": []
   },
   "outputs": [
    {
     "data": {
      "text/plain": [
       "Text(0.5, 0.98, 'Histplot of Numerical Data')"
      ]
     },
     "execution_count": 13,
     "metadata": {},
     "output_type": "execute_result"
    },
    {
     "data": {
      "image/png": "[encoded data removed]",
      "text/plain": [
       "<Figure size 1296x360 with 3 Axes>"
      ]
     },
     "metadata": {},
     "output_type": "display_data"
    }
   ],
   "source": [
    "fig, ax = plt.subplots(1,3, figsize=(18,5))\n",
    "j=0\n",
    "for i in num_col:\n",
    "    sns.histplot(data[i], ax=ax[j])\n",
    "    j+=1\n",
    "fig.suptitle('Histplot of Numerical Data')"
   ]
  },
  {
   "cell_type": "markdown",
   "id": "25c4df98",
   "metadata": {
    "papermill": {
     "duration": 0.035886,
     "end_time": "2021-10-31T03:13:17.964364",
     "exception": false,
     "start_time": "2021-10-31T03:13:17.928478",
     "status": "completed"
    },
    "tags": []
   },
   "source": [
    "> I can see a skewness in 'pressure', which is our target variable.\n",
    "\n",
    "> And, a great outliers in 'u_in' and 'pressure'."
   ]
  },
  {
   "cell_type": "markdown",
   "id": "b1ed77ab",
   "metadata": {
    "papermill": {
     "duration": 0.03697,
     "end_time": "2021-10-31T03:13:18.037528",
     "exception": false,
     "start_time": "2021-10-31T03:13:18.000558",
     "status": "completed"
    },
    "tags": []
   },
   "source": [
    "## Outliers\n",
    "> Let us have a look at outliers now, by using boxplot."
   ]
  },
  {
   "cell_type": "code",
   "execution_count": 14,
   "id": "1a4d35a1",
   "metadata": {
    "execution": {
     "iopub.execute_input": "2021-10-31T03:13:18.142881Z",
     "iopub.status.busy": "2021-10-31T03:13:18.141965Z",
     "iopub.status.idle": "2021-10-31T03:13:25.581006Z",
     "shell.execute_reply": "2021-10-31T03:13:25.581475Z",
     "shell.execute_reply.started": "2021-10-29T06:17:59.276679Z"
    },
    "papermill": {
     "duration": 7.508232,
     "end_time": "2021-10-31T03:13:25.581678",
     "exception": false,
     "start_time": "2021-10-31T03:13:18.073446",
     "status": "completed"
    },
    "tags": []
   },
   "outputs": [
    {
     "data": {
      "text/plain": [
       "Text(0.5, 0.98, 'Boxplot of Numerical Data')"
      ]
     },
     "execution_count": 14,
     "metadata": {},
     "output_type": "execute_result"
    },
    {
     "data": {
      "image/png": "[encoded data removed]",
      "text/plain": [
       "<Figure size 1296x360 with 3 Axes>"
      ]
     },
     "metadata": {},
     "output_type": "display_data"
    }
   ],
   "source": [
    "fig, ax = plt.subplots(1,3, figsize=(18,5))\n",
    "j=0\n",
    "for i in num_col:\n",
    "    sns.boxplot(data[i], ax=ax[j], palette='cool')\n",
    "    j+=1\n",
    "fig.suptitle('Boxplot of Numerical Data')"
   ]
  },
  {
   "cell_type": "markdown",
   "id": "0cbb82f9",
   "metadata": {
    "papermill": {
     "duration": 0.037284,
     "end_time": "2021-10-31T03:13:25.657223",
     "exception": false,
     "start_time": "2021-10-31T03:13:25.619939",
     "status": "completed"
    },
    "tags": []
   },
   "source": [
    "> It is always good practice to work with copied dataset. ✓✓"
   ]
  },
  {
   "cell_type": "code",
   "execution_count": 15,
   "id": "d62be838",
   "metadata": {
    "execution": {
     "iopub.execute_input": "2021-10-31T03:13:25.736044Z",
     "iopub.status.busy": "2021-10-31T03:13:25.734966Z",
     "iopub.status.idle": "2021-10-31T03:13:25.772168Z",
     "shell.execute_reply": "2021-10-31T03:13:25.771717Z",
     "shell.execute_reply.started": "2021-10-29T06:18:07.487525Z"
    },
    "papermill": {
     "duration": 0.078215,
     "end_time": "2021-10-31T03:13:25.772283",
     "exception": false,
     "start_time": "2021-10-31T03:13:25.694068",
     "status": "completed"
    },
    "tags": []
   },
   "outputs": [],
   "source": [
    "train = data.copy()"
   ]
  },
  {
   "cell_type": "markdown",
   "id": "0d6f8403",
   "metadata": {
    "papermill": {
     "duration": 0.036534,
     "end_time": "2021-10-31T03:13:25.846115",
     "exception": false,
     "start_time": "2021-10-31T03:13:25.809581",
     "status": "completed"
    },
    "tags": []
   },
   "source": [
    "## Removing Skewness of target variable.\n",
    "#### Methods tried :-\n",
    "1. Log Transformation\n",
    "2. Log + 1 Transformation\n",
    "3. Square Root\n",
    "4. Double Square Root --> This works best."
   ]
  },
  {
   "cell_type": "code",
   "execution_count": 16,
   "id": "434d9f16",
   "metadata": {
    "execution": {
     "iopub.execute_input": "2021-10-31T03:13:25.923499Z",
     "iopub.status.busy": "2021-10-31T03:13:25.922820Z",
     "iopub.status.idle": "2021-10-31T03:13:25.925163Z",
     "shell.execute_reply": "2021-10-31T03:13:25.925572Z",
     "shell.execute_reply.started": "2021-10-29T06:18:07.535514Z"
    },
    "papermill": {
     "duration": 0.042658,
     "end_time": "2021-10-31T03:13:25.925701",
     "exception": false,
     "start_time": "2021-10-31T03:13:25.883043",
     "status": "completed"
    },
    "tags": []
   },
   "outputs": [],
   "source": [
    "# fig, ax = plt.subplots(1,2, figsize=(12,5))\n",
    "# sns.distplot(train['pressure'], ax=ax[0])\n",
    "\n",
    "# train['pressure'] = np.where(train['pressure'] < 0, 0, train['pressure'])\n",
    "# train['pressure'] = np.sqrt(np.sqrt(train['pressure']))\n",
    "\n",
    "# sns.distplot(train['pressure'], ax=ax[1])"
   ]
  },
  {
   "cell_type": "markdown",
   "id": "b0d9b6d4",
   "metadata": {
    "papermill": {
     "duration": 0.037096,
     "end_time": "2021-10-31T03:13:25.999829",
     "exception": false,
     "start_time": "2021-10-31T03:13:25.962733",
     "status": "completed"
    },
    "tags": []
   },
   "source": [
    "## Creating New Features"
   ]
  },
  {
   "cell_type": "code",
   "execution_count": 17,
   "id": "954efa0e",
   "metadata": {
    "execution": {
     "iopub.execute_input": "2021-10-31T03:13:26.082992Z",
     "iopub.status.busy": "2021-10-31T03:13:26.082158Z",
     "iopub.status.idle": "2021-10-31T03:13:26.099397Z",
     "shell.execute_reply": "2021-10-31T03:13:26.098983Z",
     "shell.execute_reply.started": "2021-10-29T06:18:07.54334Z"
    },
    "papermill": {
     "duration": 0.062777,
     "end_time": "2021-10-31T03:13:26.099512",
     "exception": false,
     "start_time": "2021-10-31T03:13:26.036735",
     "status": "completed"
    },
    "tags": []
   },
   "outputs": [],
   "source": [
    "def create_new_feat(df):\n",
    "    df[\"u_in_sum\"]         = df.groupby(\"breath_id\")[\"u_in\"].transform(\"sum\")\n",
    "    df[\"u_in_std\"]         = df.groupby(\"breath_id\")[\"u_in\"].transform(\"std\")\n",
    "    df[\"u_in_min\"]         = df.groupby(\"breath_id\")[\"u_in\"].transform(\"min\")\n",
    "    df[\"u_in_first\"]       = df.groupby(\"breath_id\")[\"u_in\"].transform(\"first\")\n",
    "    df[\"u_in_last\"]        = df.groupby(\"breath_id\")[\"u_in\"].transform(\"last\")\n",
    "    df[\"time_passed\"]      = df.groupby(\"breath_id\")[\"time_step\"].diff()\n",
    "    df['area']             = df['time_step'] * df['u_in']\n",
    "    df['area_2']           = df.groupby('breath_id')['area'].cumsum()\n",
    "    df['u_in_cumsum']      = (df['u_in']).groupby(df['breath_id']).cumsum()\n",
    "    df['u_in_lag1']        = df.groupby('breath_id')['u_in'].shift(1)\n",
    "    df['u_out_lag1']       = df.groupby('breath_id')['u_out'].shift(1)\n",
    "    df['u_in_lag_back1']   = df.groupby('breath_id')['u_in'].shift(-1)\n",
    "    df['u_out_lag_back1']  = df.groupby('breath_id')['u_out'].shift(-1)\n",
    "    df['u_in_lag2']        = df.groupby('breath_id')['u_in'].shift(2)\n",
    "    df['u_out_lag2']       = df.groupby('breath_id')['u_out'].shift(2)\n",
    "    df['u_in_lag_back2']   = df.groupby('breath_id')['u_in'].shift(-2) \n",
    "    df['u_out_lag_back2']  = df.groupby('breath_id')['u_out'].shift(-2)\n",
    "    df['u_in_lag3']        = df.groupby('breath_id')['u_in'].shift(3)\n",
    "    df['u_out_lag3']       = df.groupby('breath_id')['u_out'].shift(3) \n",
    "    df['u_in_lag_back3']   = df.groupby('breath_id')['u_in'].shift(-3) \n",
    "    df['u_out_lag_back3']  = df.groupby('breath_id')['u_out'].shift(-3)\n",
    "    df['u_in_lag4']        = df.groupby('breath_id')['u_in'].shift(4)\n",
    "    df['u_out_lag4']       = df.groupby('breath_id')['u_out'].shift(4) \n",
    "    df['u_in_lag_back4']   = df.groupby('breath_id')['u_in'].shift(-4) \n",
    "    df['u_out_lag_back4']  = df.groupby('breath_id')['u_out'].shift(-4) \n",
    "    \n",
    "    df = df.fillna(0)\n",
    "    \n",
    "    df['breath_id__u_in__diffmax']  = df.groupby(['breath_id'])['u_in'].transform('max') - df['u_in']\n",
    "    df['breath_id__u_in__diffmean'] = df.groupby(['breath_id'])['u_in'].transform('mean') - df['u_in']\n",
    "    df['cross']                     = df['u_in']*df['u_out']\n",
    "    df['cross2']                    = df['time_step']*df['u_out']\n",
    "    df['R']                         = df['R'].astype(str)\n",
    "    df['C']                         = df['C'].astype(str)\n",
    "    df['R__C']                      = df[\"R\"].astype(str) + '__' + df[\"C\"].astype(str)\n",
    "    df = pd.get_dummies(df)\n",
    "#     df['u_in_lag5']  = df.groupby('breath_id')['u_in'].shift(5)  #\n",
    "#     df['u_in_lag6']  = df.groupby('breath_id')['u_in'].shift(6)  #\n",
    "#     df['u_in_lag7']  = df.groupby('breath_id')['u_in'].shift(7)  #\n",
    "#     df['u_in_lag8']  = df.groupby('breath_id')['u_in'].shift(8)  #\n",
    "#     df['u_in_lag9']  = df.groupby('breath_id')['u_in'].shift(9)  #\n",
    "#     df['u_in_lag10'] = df.groupby('breath_id')['u_in'].shift(10) #\n",
    "#     df['u_in_lag11'] = df.groupby('breath_id')['u_in'].shift(11) #\n",
    "#     df['u_in_lag12'] = df.groupby('breath_id')['u_in'].shift(12) #\n",
    "#     df['u_in_lag13'] = df.groupby('breath_id')['u_in'].shift(13) #\n",
    "#     df['u_in_lag14'] = df.groupby('breath_id')['u_in'].shift(14) #\n",
    "#     df['u_in_lag15'] = df.groupby('breath_id')['u_in'].shift(15) #\n",
    "#     df['u_in_lag16'] = df.groupby('breath_id')['u_in'].shift(16) #\n",
    "#     df['u_in_lag17'] = df.groupby('breath_id')['u_in'].shift(17) #\n",
    "#     df['u_in_lag18'] = df.groupby('breath_id')['u_in'].shift(18) #\n",
    "#     df['u_in_lag19'] = df.groupby('breath_id')['u_in'].shift(19) #\n",
    "#     df['u_in_lag20'] = df.groupby('breath_id')['u_in'].shift(20) #\n",
    "    df['time_diff']  = (df['time_step']).groupby(df['breath_id']).diff(1)\n",
    "    df['time_diff2'] = (df['time_step']).groupby(df['breath_id']).diff(2)\n",
    "    df['time_diff3'] = (df['time_step']).groupby(df['breath_id']).diff(3)\n",
    "    df['time_diff4'] = (df['time_step']).groupby(df['breath_id']).diff(4)\n",
    "    df['time_diff5'] = (df['time_step']).groupby(df['breath_id']).diff(5)\n",
    "    df['time_diff6'] = (df['time_step']).groupby(df['breath_id']).diff(6)\n",
    "    df['time_diff7'] = (df['time_step']).groupby(df['breath_id']).diff(7)\n",
    "    df['time_diff8'] = (df['time_step']).groupby(df['breath_id']).diff(8)\n",
    "    df['u_in_diff1']                = df['u_in'] - df['u_in_lag1']\n",
    "    df['u_out_diff1']               = df['u_out'] - df['u_out_lag1']\n",
    "    df['u_in_diff2']                = df['u_in'] - df['u_in_lag2'] \n",
    "    df['u_out_diff2']               = df['u_out'] - df['u_out_lag2'] \n",
    "    df['u_in_diff3']                = df['u_in'] - df['u_in_lag3'] \n",
    "    df['u_out_diff3']               = df['u_out'] - df['u_out_lag3'] \n",
    "    df['u_in_diff4']                = df['u_in'] - df['u_in_lag4'] \n",
    "    df['u_out_diff4']               = df['u_out'] - df['u_out_lag4'] \n",
    "    return df"
   ]
  },
  {
   "cell_type": "code",
   "execution_count": 18,
   "id": "6dbbfd30",
   "metadata": {
    "execution": {
     "iopub.execute_input": "2021-10-31T03:13:26.189579Z",
     "iopub.status.busy": "2021-10-31T03:13:26.188619Z",
     "iopub.status.idle": "2021-10-31T03:16:32.049266Z",
     "shell.execute_reply": "2021-10-31T03:16:32.049719Z",
     "shell.execute_reply.started": "2021-10-29T06:18:07.578545Z"
    },
    "papermill": {
     "duration": 185.911968,
     "end_time": "2021-10-31T03:16:32.049890",
     "exception": false,
     "start_time": "2021-10-31T03:13:26.137922",
     "status": "completed"
    },
    "tags": []
   },
   "outputs": [
    {
     "data": {
      "text/html": [
       "<div>\n",
       "<style scoped>\n",
       "    .dataframe tbody tr th:only-of-type {\n",
       "        vertical-align: middle;\n",
       "    }\n",
       "\n",
       "    .dataframe tbody tr th {\n",
       "        vertical-align: top;\n",
       "    }\n",
       "\n",
       "    .dataframe thead th {\n",
       "        text-align: right;\n",
       "    }\n",
       "</style>\n",
       "<table border=\"1\" class=\"dataframe\">\n",
       "  <thead>\n",
       "    <tr style=\"text-align: right;\">\n",
       "      <th></th>\n",
       "      <th>id</th>\n",
       "      <th>breath_id</th>\n",
       "      <th>time_step</th>\n",
       "      <th>u_in</th>\n",
       "      <th>u_out</th>\n",
       "      <th>pressure</th>\n",
       "      <th>u_in_sum</th>\n",
       "      <th>u_in_std</th>\n",
       "      <th>u_in_min</th>\n",
       "      <th>u_in_first</th>\n",
       "      <th>u_in_last</th>\n",
       "      <th>time_passed</th>\n",
       "      <th>area</th>\n",
       "      <th>area_2</th>\n",
       "      <th>u_in_cumsum</th>\n",
       "      <th>u_in_lag1</th>\n",
       "      <th>u_out_lag1</th>\n",
       "      <th>u_in_lag_back1</th>\n",
       "      <th>u_out_lag_back1</th>\n",
       "      <th>u_in_lag2</th>\n",
       "      <th>u_out_lag2</th>\n",
       "      <th>u_in_lag_back2</th>\n",
       "      <th>u_out_lag_back2</th>\n",
       "      <th>u_in_lag3</th>\n",
       "      <th>u_out_lag3</th>\n",
       "      <th>u_in_lag_back3</th>\n",
       "      <th>u_out_lag_back3</th>\n",
       "      <th>u_in_lag4</th>\n",
       "      <th>u_out_lag4</th>\n",
       "      <th>u_in_lag_back4</th>\n",
       "      <th>u_out_lag_back4</th>\n",
       "      <th>breath_id__u_in__diffmax</th>\n",
       "      <th>breath_id__u_in__diffmean</th>\n",
       "      <th>cross</th>\n",
       "      <th>cross2</th>\n",
       "      <th>R_20</th>\n",
       "      <th>R_5</th>\n",
       "      <th>R_50</th>\n",
       "      <th>C_10</th>\n",
       "      <th>C_20</th>\n",
       "      <th>C_50</th>\n",
       "      <th>R__C_20__10</th>\n",
       "      <th>R__C_20__20</th>\n",
       "      <th>R__C_20__50</th>\n",
       "      <th>R__C_50__10</th>\n",
       "      <th>R__C_50__20</th>\n",
       "      <th>R__C_50__50</th>\n",
       "      <th>R__C_5__10</th>\n",
       "      <th>R__C_5__20</th>\n",
       "      <th>R__C_5__50</th>\n",
       "      <th>time_diff</th>\n",
       "      <th>time_diff2</th>\n",
       "      <th>time_diff3</th>\n",
       "      <th>time_diff4</th>\n",
       "      <th>time_diff5</th>\n",
       "      <th>time_diff6</th>\n",
       "      <th>time_diff7</th>\n",
       "      <th>time_diff8</th>\n",
       "      <th>u_in_diff1</th>\n",
       "      <th>u_out_diff1</th>\n",
       "      <th>u_in_diff2</th>\n",
       "      <th>u_out_diff2</th>\n",
       "      <th>u_in_diff3</th>\n",
       "      <th>u_out_diff3</th>\n",
       "      <th>u_in_diff4</th>\n",
       "      <th>u_out_diff4</th>\n",
       "    </tr>\n",
       "  </thead>\n",
       "  <tbody>\n",
       "    <tr>\n",
       "      <th>0</th>\n",
       "      <td>1</td>\n",
       "      <td>1</td>\n",
       "      <td>0.000000</td>\n",
       "      <td>0.083313</td>\n",
       "      <td>0</td>\n",
       "      <td>5.835938</td>\n",
       "      <td>811.5</td>\n",
       "      <td>10.124471</td>\n",
       "      <td>0.0</td>\n",
       "      <td>0.083313</td>\n",
       "      <td>4.988281</td>\n",
       "      <td>0.000000</td>\n",
       "      <td>0.000000</td>\n",
       "      <td>0.000000</td>\n",
       "      <td>0.083313</td>\n",
       "      <td>0.000000</td>\n",
       "      <td>0.0</td>\n",
       "      <td>18.390625</td>\n",
       "      <td>0.0</td>\n",
       "      <td>0.000000</td>\n",
       "      <td>0.0</td>\n",
       "      <td>22.515625</td>\n",
       "      <td>0.0</td>\n",
       "      <td>0.000000</td>\n",
       "      <td>0.0</td>\n",
       "      <td>22.812500</td>\n",
       "      <td>0.0</td>\n",
       "      <td>0.000000</td>\n",
       "      <td>0.0</td>\n",
       "      <td>25.359375</td>\n",
       "      <td>0.0</td>\n",
       "      <td>28.234375</td>\n",
       "      <td>10.062500</td>\n",
       "      <td>0.0</td>\n",
       "      <td>0.0</td>\n",
       "      <td>1</td>\n",
       "      <td>0</td>\n",
       "      <td>0</td>\n",
       "      <td>0</td>\n",
       "      <td>0</td>\n",
       "      <td>1</td>\n",
       "      <td>0</td>\n",
       "      <td>0</td>\n",
       "      <td>1</td>\n",
       "      <td>0</td>\n",
       "      <td>0</td>\n",
       "      <td>0</td>\n",
       "      <td>0</td>\n",
       "      <td>0</td>\n",
       "      <td>0</td>\n",
       "      <td>0.030273</td>\n",
       "      <td>0.062500</td>\n",
       "      <td>0.093750</td>\n",
       "      <td>0.125000</td>\n",
       "      <td>0.15625</td>\n",
       "      <td>0.188477</td>\n",
       "      <td>0.219727</td>\n",
       "      <td>0.251953</td>\n",
       "      <td>0.083313</td>\n",
       "      <td>0.0</td>\n",
       "      <td>0.083313</td>\n",
       "      <td>0.0</td>\n",
       "      <td>0.083313</td>\n",
       "      <td>0.0</td>\n",
       "      <td>0.083313</td>\n",
       "      <td>0.0</td>\n",
       "    </tr>\n",
       "    <tr>\n",
       "      <th>1</th>\n",
       "      <td>2</td>\n",
       "      <td>1</td>\n",
       "      <td>0.033661</td>\n",
       "      <td>18.390625</td>\n",
       "      <td>0</td>\n",
       "      <td>5.906250</td>\n",
       "      <td>811.5</td>\n",
       "      <td>10.124471</td>\n",
       "      <td>0.0</td>\n",
       "      <td>0.083313</td>\n",
       "      <td>4.988281</td>\n",
       "      <td>0.033661</td>\n",
       "      <td>0.619141</td>\n",
       "      <td>0.619141</td>\n",
       "      <td>18.468750</td>\n",
       "      <td>0.083313</td>\n",
       "      <td>0.0</td>\n",
       "      <td>22.515625</td>\n",
       "      <td>0.0</td>\n",
       "      <td>0.000000</td>\n",
       "      <td>0.0</td>\n",
       "      <td>22.812500</td>\n",
       "      <td>0.0</td>\n",
       "      <td>0.000000</td>\n",
       "      <td>0.0</td>\n",
       "      <td>25.359375</td>\n",
       "      <td>0.0</td>\n",
       "      <td>0.000000</td>\n",
       "      <td>0.0</td>\n",
       "      <td>27.265625</td>\n",
       "      <td>0.0</td>\n",
       "      <td>9.921875</td>\n",
       "      <td>-8.242188</td>\n",
       "      <td>0.0</td>\n",
       "      <td>0.0</td>\n",
       "      <td>1</td>\n",
       "      <td>0</td>\n",
       "      <td>0</td>\n",
       "      <td>0</td>\n",
       "      <td>0</td>\n",
       "      <td>1</td>\n",
       "      <td>0</td>\n",
       "      <td>0</td>\n",
       "      <td>1</td>\n",
       "      <td>0</td>\n",
       "      <td>0</td>\n",
       "      <td>0</td>\n",
       "      <td>0</td>\n",
       "      <td>0</td>\n",
       "      <td>0</td>\n",
       "      <td>0.033661</td>\n",
       "      <td>0.062500</td>\n",
       "      <td>0.093750</td>\n",
       "      <td>0.125000</td>\n",
       "      <td>0.15625</td>\n",
       "      <td>0.188477</td>\n",
       "      <td>0.219727</td>\n",
       "      <td>0.251953</td>\n",
       "      <td>18.312500</td>\n",
       "      <td>0.0</td>\n",
       "      <td>18.390625</td>\n",
       "      <td>0.0</td>\n",
       "      <td>18.390625</td>\n",
       "      <td>0.0</td>\n",
       "      <td>18.390625</td>\n",
       "      <td>0.0</td>\n",
       "    </tr>\n",
       "    <tr>\n",
       "      <th>2</th>\n",
       "      <td>3</td>\n",
       "      <td>1</td>\n",
       "      <td>0.067505</td>\n",
       "      <td>22.515625</td>\n",
       "      <td>0</td>\n",
       "      <td>7.875000</td>\n",
       "      <td>811.5</td>\n",
       "      <td>10.124471</td>\n",
       "      <td>0.0</td>\n",
       "      <td>0.083313</td>\n",
       "      <td>4.988281</td>\n",
       "      <td>0.033844</td>\n",
       "      <td>1.519531</td>\n",
       "      <td>2.138672</td>\n",
       "      <td>41.000000</td>\n",
       "      <td>18.390625</td>\n",
       "      <td>0.0</td>\n",
       "      <td>22.812500</td>\n",
       "      <td>0.0</td>\n",
       "      <td>0.083313</td>\n",
       "      <td>0.0</td>\n",
       "      <td>25.359375</td>\n",
       "      <td>0.0</td>\n",
       "      <td>0.000000</td>\n",
       "      <td>0.0</td>\n",
       "      <td>27.265625</td>\n",
       "      <td>0.0</td>\n",
       "      <td>0.000000</td>\n",
       "      <td>0.0</td>\n",
       "      <td>27.125000</td>\n",
       "      <td>0.0</td>\n",
       "      <td>5.796875</td>\n",
       "      <td>-12.367188</td>\n",
       "      <td>0.0</td>\n",
       "      <td>0.0</td>\n",
       "      <td>1</td>\n",
       "      <td>0</td>\n",
       "      <td>0</td>\n",
       "      <td>0</td>\n",
       "      <td>0</td>\n",
       "      <td>1</td>\n",
       "      <td>0</td>\n",
       "      <td>0</td>\n",
       "      <td>1</td>\n",
       "      <td>0</td>\n",
       "      <td>0</td>\n",
       "      <td>0</td>\n",
       "      <td>0</td>\n",
       "      <td>0</td>\n",
       "      <td>0</td>\n",
       "      <td>0.033844</td>\n",
       "      <td>0.067505</td>\n",
       "      <td>0.093750</td>\n",
       "      <td>0.125000</td>\n",
       "      <td>0.15625</td>\n",
       "      <td>0.188477</td>\n",
       "      <td>0.219727</td>\n",
       "      <td>0.251953</td>\n",
       "      <td>4.125000</td>\n",
       "      <td>0.0</td>\n",
       "      <td>22.437500</td>\n",
       "      <td>0.0</td>\n",
       "      <td>22.515625</td>\n",
       "      <td>0.0</td>\n",
       "      <td>22.515625</td>\n",
       "      <td>0.0</td>\n",
       "    </tr>\n",
       "    <tr>\n",
       "      <th>3</th>\n",
       "      <td>4</td>\n",
       "      <td>1</td>\n",
       "      <td>0.101562</td>\n",
       "      <td>22.812500</td>\n",
       "      <td>0</td>\n",
       "      <td>11.742188</td>\n",
       "      <td>811.5</td>\n",
       "      <td>10.124471</td>\n",
       "      <td>0.0</td>\n",
       "      <td>0.083313</td>\n",
       "      <td>4.988281</td>\n",
       "      <td>0.034058</td>\n",
       "      <td>2.316406</td>\n",
       "      <td>4.453125</td>\n",
       "      <td>63.812500</td>\n",
       "      <td>22.515625</td>\n",
       "      <td>0.0</td>\n",
       "      <td>25.359375</td>\n",
       "      <td>0.0</td>\n",
       "      <td>18.390625</td>\n",
       "      <td>0.0</td>\n",
       "      <td>27.265625</td>\n",
       "      <td>0.0</td>\n",
       "      <td>0.083313</td>\n",
       "      <td>0.0</td>\n",
       "      <td>27.125000</td>\n",
       "      <td>0.0</td>\n",
       "      <td>0.000000</td>\n",
       "      <td>0.0</td>\n",
       "      <td>26.812500</td>\n",
       "      <td>0.0</td>\n",
       "      <td>5.500000</td>\n",
       "      <td>-12.664062</td>\n",
       "      <td>0.0</td>\n",
       "      <td>0.0</td>\n",
       "      <td>1</td>\n",
       "      <td>0</td>\n",
       "      <td>0</td>\n",
       "      <td>0</td>\n",
       "      <td>0</td>\n",
       "      <td>1</td>\n",
       "      <td>0</td>\n",
       "      <td>0</td>\n",
       "      <td>1</td>\n",
       "      <td>0</td>\n",
       "      <td>0</td>\n",
       "      <td>0</td>\n",
       "      <td>0</td>\n",
       "      <td>0</td>\n",
       "      <td>0</td>\n",
       "      <td>0.034058</td>\n",
       "      <td>0.067871</td>\n",
       "      <td>0.101562</td>\n",
       "      <td>0.125000</td>\n",
       "      <td>0.15625</td>\n",
       "      <td>0.188477</td>\n",
       "      <td>0.219727</td>\n",
       "      <td>0.251953</td>\n",
       "      <td>0.296875</td>\n",
       "      <td>0.0</td>\n",
       "      <td>4.421875</td>\n",
       "      <td>0.0</td>\n",
       "      <td>22.734375</td>\n",
       "      <td>0.0</td>\n",
       "      <td>22.812500</td>\n",
       "      <td>0.0</td>\n",
       "    </tr>\n",
       "    <tr>\n",
       "      <th>4</th>\n",
       "      <td>5</td>\n",
       "      <td>1</td>\n",
       "      <td>0.135742</td>\n",
       "      <td>25.359375</td>\n",
       "      <td>0</td>\n",
       "      <td>12.234375</td>\n",
       "      <td>811.5</td>\n",
       "      <td>10.124471</td>\n",
       "      <td>0.0</td>\n",
       "      <td>0.083313</td>\n",
       "      <td>4.988281</td>\n",
       "      <td>0.034180</td>\n",
       "      <td>3.441406</td>\n",
       "      <td>7.898438</td>\n",
       "      <td>89.187500</td>\n",
       "      <td>22.812500</td>\n",
       "      <td>0.0</td>\n",
       "      <td>27.265625</td>\n",
       "      <td>0.0</td>\n",
       "      <td>22.515625</td>\n",
       "      <td>0.0</td>\n",
       "      <td>27.125000</td>\n",
       "      <td>0.0</td>\n",
       "      <td>18.390625</td>\n",
       "      <td>0.0</td>\n",
       "      <td>26.812500</td>\n",
       "      <td>0.0</td>\n",
       "      <td>0.083313</td>\n",
       "      <td>0.0</td>\n",
       "      <td>27.859375</td>\n",
       "      <td>0.0</td>\n",
       "      <td>2.953125</td>\n",
       "      <td>-15.210938</td>\n",
       "      <td>0.0</td>\n",
       "      <td>0.0</td>\n",
       "      <td>1</td>\n",
       "      <td>0</td>\n",
       "      <td>0</td>\n",
       "      <td>0</td>\n",
       "      <td>0</td>\n",
       "      <td>1</td>\n",
       "      <td>0</td>\n",
       "      <td>0</td>\n",
       "      <td>1</td>\n",
       "      <td>0</td>\n",
       "      <td>0</td>\n",
       "      <td>0</td>\n",
       "      <td>0</td>\n",
       "      <td>0</td>\n",
       "      <td>0</td>\n",
       "      <td>0.034180</td>\n",
       "      <td>0.068237</td>\n",
       "      <td>0.102051</td>\n",
       "      <td>0.135742</td>\n",
       "      <td>0.15625</td>\n",
       "      <td>0.188477</td>\n",
       "      <td>0.219727</td>\n",
       "      <td>0.251953</td>\n",
       "      <td>2.546875</td>\n",
       "      <td>0.0</td>\n",
       "      <td>2.843750</td>\n",
       "      <td>0.0</td>\n",
       "      <td>6.968750</td>\n",
       "      <td>0.0</td>\n",
       "      <td>25.281250</td>\n",
       "      <td>0.0</td>\n",
       "    </tr>\n",
       "  </tbody>\n",
       "</table>\n",
       "</div>"
      ],
      "text/plain": [
       "   id  breath_id  time_step       u_in  u_out   pressure  u_in_sum   u_in_std  \\\n",
       "0   1          1   0.000000   0.083313      0   5.835938     811.5  10.124471   \n",
       "1   2          1   0.033661  18.390625      0   5.906250     811.5  10.124471   \n",
       "2   3          1   0.067505  22.515625      0   7.875000     811.5  10.124471   \n",
       "3   4          1   0.101562  22.812500      0  11.742188     811.5  10.124471   \n",
       "4   5          1   0.135742  25.359375      0  12.234375     811.5  10.124471   \n",
       "\n",
       "   u_in_min  u_in_first  u_in_last  time_passed      area    area_2  \\\n",
       "0       0.0    0.083313   4.988281     0.000000  0.000000  0.000000   \n",
       "1       0.0    0.083313   4.988281     0.033661  0.619141  0.619141   \n",
       "2       0.0    0.083313   4.988281     0.033844  1.519531  2.138672   \n",
       "3       0.0    0.083313   4.988281     0.034058  2.316406  4.453125   \n",
       "4       0.0    0.083313   4.988281     0.034180  3.441406  7.898438   \n",
       "\n",
       "   u_in_cumsum  u_in_lag1  u_out_lag1  u_in_lag_back1  u_out_lag_back1  \\\n",
       "0     0.083313   0.000000         0.0       18.390625              0.0   \n",
       "1    18.468750   0.083313         0.0       22.515625              0.0   \n",
       "2    41.000000  18.390625         0.0       22.812500              0.0   \n",
       "3    63.812500  22.515625         0.0       25.359375              0.0   \n",
       "4    89.187500  22.812500         0.0       27.265625              0.0   \n",
       "\n",
       "   u_in_lag2  u_out_lag2  u_in_lag_back2  u_out_lag_back2  u_in_lag3  \\\n",
       "0   0.000000         0.0       22.515625              0.0   0.000000   \n",
       "1   0.000000         0.0       22.812500              0.0   0.000000   \n",
       "2   0.083313         0.0       25.359375              0.0   0.000000   \n",
       "3  18.390625         0.0       27.265625              0.0   0.083313   \n",
       "4  22.515625         0.0       27.125000              0.0  18.390625   \n",
       "\n",
       "   u_out_lag3  u_in_lag_back3  u_out_lag_back3  u_in_lag4  u_out_lag4  \\\n",
       "0         0.0       22.812500              0.0   0.000000         0.0   \n",
       "1         0.0       25.359375              0.0   0.000000         0.0   \n",
       "2         0.0       27.265625              0.0   0.000000         0.0   \n",
       "3         0.0       27.125000              0.0   0.000000         0.0   \n",
       "4         0.0       26.812500              0.0   0.083313         0.0   \n",
       "\n",
       "   u_in_lag_back4  u_out_lag_back4  breath_id__u_in__diffmax  \\\n",
       "0       25.359375              0.0                 28.234375   \n",
       "1       27.265625              0.0                  9.921875   \n",
       "2       27.125000              0.0                  5.796875   \n",
       "3       26.812500              0.0                  5.500000   \n",
       "4       27.859375              0.0                  2.953125   \n",
       "\n",
       "   breath_id__u_in__diffmean  cross  cross2  R_20  R_5  R_50  C_10  C_20  \\\n",
       "0                  10.062500    0.0     0.0     1    0     0     0     0   \n",
       "1                  -8.242188    0.0     0.0     1    0     0     0     0   \n",
       "2                 -12.367188    0.0     0.0     1    0     0     0     0   \n",
       "3                 -12.664062    0.0     0.0     1    0     0     0     0   \n",
       "4                 -15.210938    0.0     0.0     1    0     0     0     0   \n",
       "\n",
       "   C_50  R__C_20__10  R__C_20__20  R__C_20__50  R__C_50__10  R__C_50__20  \\\n",
       "0     1            0            0            1            0            0   \n",
       "1     1            0            0            1            0            0   \n",
       "2     1            0            0            1            0            0   \n",
       "3     1            0            0            1            0            0   \n",
       "4     1            0            0            1            0            0   \n",
       "\n",
       "   R__C_50__50  R__C_5__10  R__C_5__20  R__C_5__50  time_diff  time_diff2  \\\n",
       "0            0           0           0           0   0.030273    0.062500   \n",
       "1            0           0           0           0   0.033661    0.062500   \n",
       "2            0           0           0           0   0.033844    0.067505   \n",
       "3            0           0           0           0   0.034058    0.067871   \n",
       "4            0           0           0           0   0.034180    0.068237   \n",
       "\n",
       "   time_diff3  time_diff4  time_diff5  time_diff6  time_diff7  time_diff8  \\\n",
       "0    0.093750    0.125000     0.15625    0.188477    0.219727    0.251953   \n",
       "1    0.093750    0.125000     0.15625    0.188477    0.219727    0.251953   \n",
       "2    0.093750    0.125000     0.15625    0.188477    0.219727    0.251953   \n",
       "3    0.101562    0.125000     0.15625    0.188477    0.219727    0.251953   \n",
       "4    0.102051    0.135742     0.15625    0.188477    0.219727    0.251953   \n",
       "\n",
       "   u_in_diff1  u_out_diff1  u_in_diff2  u_out_diff2  u_in_diff3  u_out_diff3  \\\n",
       "0    0.083313          0.0    0.083313          0.0    0.083313          0.0   \n",
       "1   18.312500          0.0   18.390625          0.0   18.390625          0.0   \n",
       "2    4.125000          0.0   22.437500          0.0   22.515625          0.0   \n",
       "3    0.296875          0.0    4.421875          0.0   22.734375          0.0   \n",
       "4    2.546875          0.0    2.843750          0.0    6.968750          0.0   \n",
       "\n",
       "   u_in_diff4  u_out_diff4  \n",
       "0    0.083313          0.0  \n",
       "1   18.390625          0.0  \n",
       "2   22.515625          0.0  \n",
       "3   22.812500          0.0  \n",
       "4   25.281250          0.0  "
      ]
     },
     "execution_count": 18,
     "metadata": {},
     "output_type": "execute_result"
    }
   ],
   "source": [
    "train = create_new_feat(train)\n",
    "train = train.fillna(train.min())\n",
    "train.head()"
   ]
  },
  {
   "cell_type": "code",
   "execution_count": 19,
   "id": "d352479f",
   "metadata": {
    "execution": {
     "iopub.execute_input": "2021-10-31T03:16:32.129973Z",
     "iopub.status.busy": "2021-10-31T03:16:32.129235Z",
     "iopub.status.idle": "2021-10-31T03:16:38.375008Z",
     "shell.execute_reply": "2021-10-31T03:16:38.374566Z",
     "shell.execute_reply.started": "2021-10-29T06:22:33.889572Z"
    },
    "papermill": {
     "duration": 6.287939,
     "end_time": "2021-10-31T03:16:38.375131",
     "exception": false,
     "start_time": "2021-10-31T03:16:32.087192",
     "status": "completed"
    },
    "tags": []
   },
   "outputs": [
    {
     "name": "stdout",
     "output_type": "stream",
     "text": [
      "Memory usage of dataframe is 1139.76 MB\n",
      "Memory usage after optimization is: 777.11 MB\n",
      "Decreased by 31.8%\n"
     ]
    }
   ],
   "source": [
    "train = reduce_memory_usage(train)"
   ]
  },
  {
   "cell_type": "markdown",
   "id": "b18fce5e",
   "metadata": {
    "papermill": {
     "duration": 0.037898,
     "end_time": "2021-10-31T03:16:38.451477",
     "exception": false,
     "start_time": "2021-10-31T03:16:38.413579",
     "status": "completed"
    },
    "tags": []
   },
   "source": [
    "## Working with Test Data"
   ]
  },
  {
   "cell_type": "code",
   "execution_count": 20,
   "id": "01ca83b0",
   "metadata": {
    "execution": {
     "iopub.execute_input": "2021-10-31T03:16:38.530801Z",
     "iopub.status.busy": "2021-10-31T03:16:38.530295Z",
     "iopub.status.idle": "2021-10-31T03:16:43.125963Z",
     "shell.execute_reply": "2021-10-31T03:16:43.125457Z",
     "shell.execute_reply.started": "2021-10-29T06:22:41.579242Z"
    },
    "papermill": {
     "duration": 4.636812,
     "end_time": "2021-10-31T03:16:43.126149",
     "exception": false,
     "start_time": "2021-10-31T03:16:38.489337",
     "status": "completed"
    },
    "tags": []
   },
   "outputs": [
    {
     "data": {
      "text/html": [
       "<div>\n",
       "<style scoped>\n",
       "    .dataframe tbody tr th:only-of-type {\n",
       "        vertical-align: middle;\n",
       "    }\n",
       "\n",
       "    .dataframe tbody tr th {\n",
       "        vertical-align: top;\n",
       "    }\n",
       "\n",
       "    .dataframe thead th {\n",
       "        text-align: right;\n",
       "    }\n",
       "</style>\n",
       "<table border=\"1\" class=\"dataframe\">\n",
       "  <thead>\n",
       "    <tr style=\"text-align: right;\">\n",
       "      <th></th>\n",
       "      <th>id</th>\n",
       "      <th>breath_id</th>\n",
       "      <th>R</th>\n",
       "      <th>C</th>\n",
       "      <th>time_step</th>\n",
       "      <th>u_in</th>\n",
       "      <th>u_out</th>\n",
       "    </tr>\n",
       "  </thead>\n",
       "  <tbody>\n",
       "    <tr>\n",
       "      <th>0</th>\n",
       "      <td>1</td>\n",
       "      <td>0</td>\n",
       "      <td>5</td>\n",
       "      <td>20</td>\n",
       "      <td>0.000000</td>\n",
       "      <td>0.000000</td>\n",
       "      <td>0</td>\n",
       "    </tr>\n",
       "    <tr>\n",
       "      <th>1</th>\n",
       "      <td>2</td>\n",
       "      <td>0</td>\n",
       "      <td>5</td>\n",
       "      <td>20</td>\n",
       "      <td>0.031904</td>\n",
       "      <td>7.515046</td>\n",
       "      <td>0</td>\n",
       "    </tr>\n",
       "    <tr>\n",
       "      <th>2</th>\n",
       "      <td>3</td>\n",
       "      <td>0</td>\n",
       "      <td>5</td>\n",
       "      <td>20</td>\n",
       "      <td>0.063827</td>\n",
       "      <td>14.651675</td>\n",
       "      <td>0</td>\n",
       "    </tr>\n",
       "    <tr>\n",
       "      <th>3</th>\n",
       "      <td>4</td>\n",
       "      <td>0</td>\n",
       "      <td>5</td>\n",
       "      <td>20</td>\n",
       "      <td>0.095751</td>\n",
       "      <td>21.230610</td>\n",
       "      <td>0</td>\n",
       "    </tr>\n",
       "    <tr>\n",
       "      <th>4</th>\n",
       "      <td>5</td>\n",
       "      <td>0</td>\n",
       "      <td>5</td>\n",
       "      <td>20</td>\n",
       "      <td>0.127644</td>\n",
       "      <td>26.320956</td>\n",
       "      <td>0</td>\n",
       "    </tr>\n",
       "  </tbody>\n",
       "</table>\n",
       "</div>"
      ],
      "text/plain": [
       "   id  breath_id  R   C  time_step       u_in  u_out\n",
       "0   1          0  5  20   0.000000   0.000000      0\n",
       "1   2          0  5  20   0.031904   7.515046      0\n",
       "2   3          0  5  20   0.063827  14.651675      0\n",
       "3   4          0  5  20   0.095751  21.230610      0\n",
       "4   5          0  5  20   0.127644  26.320956      0"
      ]
     },
     "execution_count": 20,
     "metadata": {},
     "output_type": "execute_result"
    }
   ],
   "source": [
    "test_data = pd.read_csv('../input/ventilator-pressure-prediction/test.csv')\n",
    "test_data.head()"
   ]
  },
  {
   "cell_type": "code",
   "execution_count": 21,
   "id": "3b90de70",
   "metadata": {
    "execution": {
     "iopub.execute_input": "2021-10-31T03:16:43.226679Z",
     "iopub.status.busy": "2021-10-31T03:16:43.218510Z",
     "iopub.status.idle": "2021-10-31T03:16:53.412460Z",
     "shell.execute_reply": "2021-10-31T03:16:53.412006Z",
     "shell.execute_reply.started": "2021-10-29T06:22:46.311037Z"
    },
    "papermill": {
     "duration": 10.241862,
     "end_time": "2021-10-31T03:16:53.412586",
     "exception": false,
     "start_time": "2021-10-31T03:16:43.170724",
     "status": "completed"
    },
    "tags": []
   },
   "outputs": [
    {
     "data": {
      "text/plain": [
       "Text(0.5, 0.98, 'Histplot of Numerical Data')"
      ]
     },
     "execution_count": 21,
     "metadata": {},
     "output_type": "execute_result"
    },
    {
     "data": {
      "image/png": "[encoded data removed]",
      "text/plain": [
       "<Figure size 1296x360 with 2 Axes>"
      ]
     },
     "metadata": {},
     "output_type": "display_data"
    }
   ],
   "source": [
    "fig, ax = plt.subplots(1,2, figsize=(18,5))\n",
    "j=0\n",
    "for i in num_col[:2]:\n",
    "    sns.histplot(test_data[i], ax=ax[j])\n",
    "    j+=1\n",
    "fig.suptitle('Histplot of Numerical Data')"
   ]
  },
  {
   "cell_type": "markdown",
   "id": "4fe12ac8",
   "metadata": {
    "papermill": {
     "duration": 0.039741,
     "end_time": "2021-10-31T03:16:53.492293",
     "exception": false,
     "start_time": "2021-10-31T03:16:53.452552",
     "status": "completed"
    },
    "tags": []
   },
   "source": [
    "#### Creating New Features"
   ]
  },
  {
   "cell_type": "code",
   "execution_count": 22,
   "id": "c5a7e711",
   "metadata": {
    "execution": {
     "iopub.execute_input": "2021-10-31T03:16:53.576761Z",
     "iopub.status.busy": "2021-10-31T03:16:53.575991Z",
     "iopub.status.idle": "2021-10-31T03:19:01.183200Z",
     "shell.execute_reply": "2021-10-31T03:19:01.183856Z",
     "shell.execute_reply.started": "2021-10-29T06:23:00.981439Z"
    },
    "papermill": {
     "duration": 127.65172,
     "end_time": "2021-10-31T03:19:01.184069",
     "exception": false,
     "start_time": "2021-10-31T03:16:53.532349",
     "status": "completed"
    },
    "tags": []
   },
   "outputs": [
    {
     "data": {
      "text/html": [
       "<div>\n",
       "<style scoped>\n",
       "    .dataframe tbody tr th:only-of-type {\n",
       "        vertical-align: middle;\n",
       "    }\n",
       "\n",
       "    .dataframe tbody tr th {\n",
       "        vertical-align: top;\n",
       "    }\n",
       "\n",
       "    .dataframe thead th {\n",
       "        text-align: right;\n",
       "    }\n",
       "</style>\n",
       "<table border=\"1\" class=\"dataframe\">\n",
       "  <thead>\n",
       "    <tr style=\"text-align: right;\">\n",
       "      <th></th>\n",
       "      <th>id</th>\n",
       "      <th>breath_id</th>\n",
       "      <th>time_step</th>\n",
       "      <th>u_in</th>\n",
       "      <th>u_out</th>\n",
       "      <th>u_in_sum</th>\n",
       "      <th>u_in_std</th>\n",
       "      <th>u_in_min</th>\n",
       "      <th>u_in_first</th>\n",
       "      <th>u_in_last</th>\n",
       "      <th>time_passed</th>\n",
       "      <th>area</th>\n",
       "      <th>area_2</th>\n",
       "      <th>u_in_cumsum</th>\n",
       "      <th>u_in_lag1</th>\n",
       "      <th>u_out_lag1</th>\n",
       "      <th>u_in_lag_back1</th>\n",
       "      <th>u_out_lag_back1</th>\n",
       "      <th>u_in_lag2</th>\n",
       "      <th>u_out_lag2</th>\n",
       "      <th>u_in_lag_back2</th>\n",
       "      <th>u_out_lag_back2</th>\n",
       "      <th>u_in_lag3</th>\n",
       "      <th>u_out_lag3</th>\n",
       "      <th>u_in_lag_back3</th>\n",
       "      <th>u_out_lag_back3</th>\n",
       "      <th>u_in_lag4</th>\n",
       "      <th>u_out_lag4</th>\n",
       "      <th>u_in_lag_back4</th>\n",
       "      <th>u_out_lag_back4</th>\n",
       "      <th>breath_id__u_in__diffmax</th>\n",
       "      <th>breath_id__u_in__diffmean</th>\n",
       "      <th>cross</th>\n",
       "      <th>cross2</th>\n",
       "      <th>R_20</th>\n",
       "      <th>R_5</th>\n",
       "      <th>R_50</th>\n",
       "      <th>C_10</th>\n",
       "      <th>C_20</th>\n",
       "      <th>C_50</th>\n",
       "      <th>R__C_20__10</th>\n",
       "      <th>R__C_20__20</th>\n",
       "      <th>R__C_20__50</th>\n",
       "      <th>R__C_50__10</th>\n",
       "      <th>R__C_50__20</th>\n",
       "      <th>R__C_50__50</th>\n",
       "      <th>R__C_5__10</th>\n",
       "      <th>R__C_5__20</th>\n",
       "      <th>R__C_5__50</th>\n",
       "      <th>time_diff</th>\n",
       "      <th>time_diff2</th>\n",
       "      <th>time_diff3</th>\n",
       "      <th>time_diff4</th>\n",
       "      <th>time_diff5</th>\n",
       "      <th>time_diff6</th>\n",
       "      <th>time_diff7</th>\n",
       "      <th>time_diff8</th>\n",
       "      <th>u_in_diff1</th>\n",
       "      <th>u_out_diff1</th>\n",
       "      <th>u_in_diff2</th>\n",
       "      <th>u_out_diff2</th>\n",
       "      <th>u_in_diff3</th>\n",
       "      <th>u_out_diff3</th>\n",
       "      <th>u_in_diff4</th>\n",
       "      <th>u_out_diff4</th>\n",
       "    </tr>\n",
       "  </thead>\n",
       "  <tbody>\n",
       "    <tr>\n",
       "      <th>0</th>\n",
       "      <td>1</td>\n",
       "      <td>0</td>\n",
       "      <td>0.000000</td>\n",
       "      <td>0.000000</td>\n",
       "      <td>0</td>\n",
       "      <td>746.187002</td>\n",
       "      <td>12.179744</td>\n",
       "      <td>0.0</td>\n",
       "      <td>0.0</td>\n",
       "      <td>4.973375</td>\n",
       "      <td>0.000000</td>\n",
       "      <td>0.000000</td>\n",
       "      <td>0.000000</td>\n",
       "      <td>0.000000</td>\n",
       "      <td>0.000000</td>\n",
       "      <td>0.0</td>\n",
       "      <td>7.515046</td>\n",
       "      <td>0.0</td>\n",
       "      <td>0.000000</td>\n",
       "      <td>0.0</td>\n",
       "      <td>14.651675</td>\n",
       "      <td>0.0</td>\n",
       "      <td>0.000000</td>\n",
       "      <td>0.0</td>\n",
       "      <td>21.230610</td>\n",
       "      <td>0.0</td>\n",
       "      <td>0.0</td>\n",
       "      <td>0.0</td>\n",
       "      <td>26.320956</td>\n",
       "      <td>0.0</td>\n",
       "      <td>37.542219</td>\n",
       "      <td>9.327338</td>\n",
       "      <td>0.0</td>\n",
       "      <td>0.0</td>\n",
       "      <td>0</td>\n",
       "      <td>1</td>\n",
       "      <td>0</td>\n",
       "      <td>0</td>\n",
       "      <td>1</td>\n",
       "      <td>0</td>\n",
       "      <td>0</td>\n",
       "      <td>0</td>\n",
       "      <td>0</td>\n",
       "      <td>0</td>\n",
       "      <td>0</td>\n",
       "      <td>0</td>\n",
       "      <td>0</td>\n",
       "      <td>1</td>\n",
       "      <td>0</td>\n",
       "      <td>0.031449</td>\n",
       "      <td>0.062907</td>\n",
       "      <td>0.094386</td>\n",
       "      <td>0.125892</td>\n",
       "      <td>0.157406</td>\n",
       "      <td>0.188908</td>\n",
       "      <td>0.220418</td>\n",
       "      <td>0.25193</td>\n",
       "      <td>0.000000</td>\n",
       "      <td>0.0</td>\n",
       "      <td>0.000000</td>\n",
       "      <td>0.0</td>\n",
       "      <td>0.000000</td>\n",
       "      <td>0.0</td>\n",
       "      <td>0.000000</td>\n",
       "      <td>0.0</td>\n",
       "    </tr>\n",
       "    <tr>\n",
       "      <th>1</th>\n",
       "      <td>2</td>\n",
       "      <td>0</td>\n",
       "      <td>0.031904</td>\n",
       "      <td>7.515046</td>\n",
       "      <td>0</td>\n",
       "      <td>746.187002</td>\n",
       "      <td>12.179744</td>\n",
       "      <td>0.0</td>\n",
       "      <td>0.0</td>\n",
       "      <td>4.973375</td>\n",
       "      <td>0.031904</td>\n",
       "      <td>0.239758</td>\n",
       "      <td>0.239758</td>\n",
       "      <td>7.515046</td>\n",
       "      <td>0.000000</td>\n",
       "      <td>0.0</td>\n",
       "      <td>14.651675</td>\n",
       "      <td>0.0</td>\n",
       "      <td>0.000000</td>\n",
       "      <td>0.0</td>\n",
       "      <td>21.230610</td>\n",
       "      <td>0.0</td>\n",
       "      <td>0.000000</td>\n",
       "      <td>0.0</td>\n",
       "      <td>26.320956</td>\n",
       "      <td>0.0</td>\n",
       "      <td>0.0</td>\n",
       "      <td>0.0</td>\n",
       "      <td>30.486938</td>\n",
       "      <td>0.0</td>\n",
       "      <td>30.027173</td>\n",
       "      <td>1.812292</td>\n",
       "      <td>0.0</td>\n",
       "      <td>0.0</td>\n",
       "      <td>0</td>\n",
       "      <td>1</td>\n",
       "      <td>0</td>\n",
       "      <td>0</td>\n",
       "      <td>1</td>\n",
       "      <td>0</td>\n",
       "      <td>0</td>\n",
       "      <td>0</td>\n",
       "      <td>0</td>\n",
       "      <td>0</td>\n",
       "      <td>0</td>\n",
       "      <td>0</td>\n",
       "      <td>0</td>\n",
       "      <td>1</td>\n",
       "      <td>0</td>\n",
       "      <td>0.031904</td>\n",
       "      <td>0.062907</td>\n",
       "      <td>0.094386</td>\n",
       "      <td>0.125892</td>\n",
       "      <td>0.157406</td>\n",
       "      <td>0.188908</td>\n",
       "      <td>0.220418</td>\n",
       "      <td>0.25193</td>\n",
       "      <td>7.515046</td>\n",
       "      <td>0.0</td>\n",
       "      <td>7.515046</td>\n",
       "      <td>0.0</td>\n",
       "      <td>7.515046</td>\n",
       "      <td>0.0</td>\n",
       "      <td>7.515046</td>\n",
       "      <td>0.0</td>\n",
       "    </tr>\n",
       "    <tr>\n",
       "      <th>2</th>\n",
       "      <td>3</td>\n",
       "      <td>0</td>\n",
       "      <td>0.063827</td>\n",
       "      <td>14.651675</td>\n",
       "      <td>0</td>\n",
       "      <td>746.187002</td>\n",
       "      <td>12.179744</td>\n",
       "      <td>0.0</td>\n",
       "      <td>0.0</td>\n",
       "      <td>4.973375</td>\n",
       "      <td>0.031924</td>\n",
       "      <td>0.935177</td>\n",
       "      <td>1.174935</td>\n",
       "      <td>22.166721</td>\n",
       "      <td>7.515046</td>\n",
       "      <td>0.0</td>\n",
       "      <td>21.230610</td>\n",
       "      <td>0.0</td>\n",
       "      <td>0.000000</td>\n",
       "      <td>0.0</td>\n",
       "      <td>26.320956</td>\n",
       "      <td>0.0</td>\n",
       "      <td>0.000000</td>\n",
       "      <td>0.0</td>\n",
       "      <td>30.486938</td>\n",
       "      <td>0.0</td>\n",
       "      <td>0.0</td>\n",
       "      <td>0.0</td>\n",
       "      <td>33.545950</td>\n",
       "      <td>0.0</td>\n",
       "      <td>22.890543</td>\n",
       "      <td>-5.324338</td>\n",
       "      <td>0.0</td>\n",
       "      <td>0.0</td>\n",
       "      <td>0</td>\n",
       "      <td>1</td>\n",
       "      <td>0</td>\n",
       "      <td>0</td>\n",
       "      <td>1</td>\n",
       "      <td>0</td>\n",
       "      <td>0</td>\n",
       "      <td>0</td>\n",
       "      <td>0</td>\n",
       "      <td>0</td>\n",
       "      <td>0</td>\n",
       "      <td>0</td>\n",
       "      <td>0</td>\n",
       "      <td>1</td>\n",
       "      <td>0</td>\n",
       "      <td>0.031924</td>\n",
       "      <td>0.063827</td>\n",
       "      <td>0.094386</td>\n",
       "      <td>0.125892</td>\n",
       "      <td>0.157406</td>\n",
       "      <td>0.188908</td>\n",
       "      <td>0.220418</td>\n",
       "      <td>0.25193</td>\n",
       "      <td>7.136630</td>\n",
       "      <td>0.0</td>\n",
       "      <td>14.651675</td>\n",
       "      <td>0.0</td>\n",
       "      <td>14.651675</td>\n",
       "      <td>0.0</td>\n",
       "      <td>14.651675</td>\n",
       "      <td>0.0</td>\n",
       "    </tr>\n",
       "    <tr>\n",
       "      <th>3</th>\n",
       "      <td>4</td>\n",
       "      <td>0</td>\n",
       "      <td>0.095751</td>\n",
       "      <td>21.230610</td>\n",
       "      <td>0</td>\n",
       "      <td>746.187002</td>\n",
       "      <td>12.179744</td>\n",
       "      <td>0.0</td>\n",
       "      <td>0.0</td>\n",
       "      <td>4.973375</td>\n",
       "      <td>0.031924</td>\n",
       "      <td>2.032853</td>\n",
       "      <td>3.207788</td>\n",
       "      <td>43.397331</td>\n",
       "      <td>14.651675</td>\n",
       "      <td>0.0</td>\n",
       "      <td>26.320956</td>\n",
       "      <td>0.0</td>\n",
       "      <td>7.515046</td>\n",
       "      <td>0.0</td>\n",
       "      <td>30.486938</td>\n",
       "      <td>0.0</td>\n",
       "      <td>0.000000</td>\n",
       "      <td>0.0</td>\n",
       "      <td>33.545950</td>\n",
       "      <td>0.0</td>\n",
       "      <td>0.0</td>\n",
       "      <td>0.0</td>\n",
       "      <td>35.717600</td>\n",
       "      <td>0.0</td>\n",
       "      <td>16.311609</td>\n",
       "      <td>-11.903272</td>\n",
       "      <td>0.0</td>\n",
       "      <td>0.0</td>\n",
       "      <td>0</td>\n",
       "      <td>1</td>\n",
       "      <td>0</td>\n",
       "      <td>0</td>\n",
       "      <td>1</td>\n",
       "      <td>0</td>\n",
       "      <td>0</td>\n",
       "      <td>0</td>\n",
       "      <td>0</td>\n",
       "      <td>0</td>\n",
       "      <td>0</td>\n",
       "      <td>0</td>\n",
       "      <td>0</td>\n",
       "      <td>1</td>\n",
       "      <td>0</td>\n",
       "      <td>0.031924</td>\n",
       "      <td>0.063847</td>\n",
       "      <td>0.095751</td>\n",
       "      <td>0.125892</td>\n",
       "      <td>0.157406</td>\n",
       "      <td>0.188908</td>\n",
       "      <td>0.220418</td>\n",
       "      <td>0.25193</td>\n",
       "      <td>6.578935</td>\n",
       "      <td>0.0</td>\n",
       "      <td>13.715564</td>\n",
       "      <td>0.0</td>\n",
       "      <td>21.230610</td>\n",
       "      <td>0.0</td>\n",
       "      <td>21.230610</td>\n",
       "      <td>0.0</td>\n",
       "    </tr>\n",
       "    <tr>\n",
       "      <th>4</th>\n",
       "      <td>5</td>\n",
       "      <td>0</td>\n",
       "      <td>0.127644</td>\n",
       "      <td>26.320956</td>\n",
       "      <td>0</td>\n",
       "      <td>746.187002</td>\n",
       "      <td>12.179744</td>\n",
       "      <td>0.0</td>\n",
       "      <td>0.0</td>\n",
       "      <td>4.973375</td>\n",
       "      <td>0.031893</td>\n",
       "      <td>3.359701</td>\n",
       "      <td>6.567489</td>\n",
       "      <td>69.718287</td>\n",
       "      <td>21.230610</td>\n",
       "      <td>0.0</td>\n",
       "      <td>30.486938</td>\n",
       "      <td>0.0</td>\n",
       "      <td>14.651675</td>\n",
       "      <td>0.0</td>\n",
       "      <td>33.545950</td>\n",
       "      <td>0.0</td>\n",
       "      <td>7.515046</td>\n",
       "      <td>0.0</td>\n",
       "      <td>35.717600</td>\n",
       "      <td>0.0</td>\n",
       "      <td>0.0</td>\n",
       "      <td>0.0</td>\n",
       "      <td>36.971061</td>\n",
       "      <td>0.0</td>\n",
       "      <td>11.221263</td>\n",
       "      <td>-16.993619</td>\n",
       "      <td>0.0</td>\n",
       "      <td>0.0</td>\n",
       "      <td>0</td>\n",
       "      <td>1</td>\n",
       "      <td>0</td>\n",
       "      <td>0</td>\n",
       "      <td>1</td>\n",
       "      <td>0</td>\n",
       "      <td>0</td>\n",
       "      <td>0</td>\n",
       "      <td>0</td>\n",
       "      <td>0</td>\n",
       "      <td>0</td>\n",
       "      <td>0</td>\n",
       "      <td>0</td>\n",
       "      <td>1</td>\n",
       "      <td>0</td>\n",
       "      <td>0.031893</td>\n",
       "      <td>0.063816</td>\n",
       "      <td>0.095740</td>\n",
       "      <td>0.127644</td>\n",
       "      <td>0.157406</td>\n",
       "      <td>0.188908</td>\n",
       "      <td>0.220418</td>\n",
       "      <td>0.25193</td>\n",
       "      <td>5.090346</td>\n",
       "      <td>0.0</td>\n",
       "      <td>11.669281</td>\n",
       "      <td>0.0</td>\n",
       "      <td>18.805911</td>\n",
       "      <td>0.0</td>\n",
       "      <td>26.320956</td>\n",
       "      <td>0.0</td>\n",
       "    </tr>\n",
       "  </tbody>\n",
       "</table>\n",
       "</div>"
      ],
      "text/plain": [
       "   id  breath_id  time_step       u_in  u_out    u_in_sum   u_in_std  \\\n",
       "0   1          0   0.000000   0.000000      0  746.187002  12.179744   \n",
       "1   2          0   0.031904   7.515046      0  746.187002  12.179744   \n",
       "2   3          0   0.063827  14.651675      0  746.187002  12.179744   \n",
       "3   4          0   0.095751  21.230610      0  746.187002  12.179744   \n",
       "4   5          0   0.127644  26.320956      0  746.187002  12.179744   \n",
       "\n",
       "   u_in_min  u_in_first  u_in_last  time_passed      area    area_2  \\\n",
       "0       0.0         0.0   4.973375     0.000000  0.000000  0.000000   \n",
       "1       0.0         0.0   4.973375     0.031904  0.239758  0.239758   \n",
       "2       0.0         0.0   4.973375     0.031924  0.935177  1.174935   \n",
       "3       0.0         0.0   4.973375     0.031924  2.032853  3.207788   \n",
       "4       0.0         0.0   4.973375     0.031893  3.359701  6.567489   \n",
       "\n",
       "   u_in_cumsum  u_in_lag1  u_out_lag1  u_in_lag_back1  u_out_lag_back1  \\\n",
       "0     0.000000   0.000000         0.0        7.515046              0.0   \n",
       "1     7.515046   0.000000         0.0       14.651675              0.0   \n",
       "2    22.166721   7.515046         0.0       21.230610              0.0   \n",
       "3    43.397331  14.651675         0.0       26.320956              0.0   \n",
       "4    69.718287  21.230610         0.0       30.486938              0.0   \n",
       "\n",
       "   u_in_lag2  u_out_lag2  u_in_lag_back2  u_out_lag_back2  u_in_lag3  \\\n",
       "0   0.000000         0.0       14.651675              0.0   0.000000   \n",
       "1   0.000000         0.0       21.230610              0.0   0.000000   \n",
       "2   0.000000         0.0       26.320956              0.0   0.000000   \n",
       "3   7.515046         0.0       30.486938              0.0   0.000000   \n",
       "4  14.651675         0.0       33.545950              0.0   7.515046   \n",
       "\n",
       "   u_out_lag3  u_in_lag_back3  u_out_lag_back3  u_in_lag4  u_out_lag4  \\\n",
       "0         0.0       21.230610              0.0        0.0         0.0   \n",
       "1         0.0       26.320956              0.0        0.0         0.0   \n",
       "2         0.0       30.486938              0.0        0.0         0.0   \n",
       "3         0.0       33.545950              0.0        0.0         0.0   \n",
       "4         0.0       35.717600              0.0        0.0         0.0   \n",
       "\n",
       "   u_in_lag_back4  u_out_lag_back4  breath_id__u_in__diffmax  \\\n",
       "0       26.320956              0.0                 37.542219   \n",
       "1       30.486938              0.0                 30.027173   \n",
       "2       33.545950              0.0                 22.890543   \n",
       "3       35.717600              0.0                 16.311609   \n",
       "4       36.971061              0.0                 11.221263   \n",
       "\n",
       "   breath_id__u_in__diffmean  cross  cross2  R_20  R_5  R_50  C_10  C_20  \\\n",
       "0                   9.327338    0.0     0.0     0    1     0     0     1   \n",
       "1                   1.812292    0.0     0.0     0    1     0     0     1   \n",
       "2                  -5.324338    0.0     0.0     0    1     0     0     1   \n",
       "3                 -11.903272    0.0     0.0     0    1     0     0     1   \n",
       "4                 -16.993619    0.0     0.0     0    1     0     0     1   \n",
       "\n",
       "   C_50  R__C_20__10  R__C_20__20  R__C_20__50  R__C_50__10  R__C_50__20  \\\n",
       "0     0            0            0            0            0            0   \n",
       "1     0            0            0            0            0            0   \n",
       "2     0            0            0            0            0            0   \n",
       "3     0            0            0            0            0            0   \n",
       "4     0            0            0            0            0            0   \n",
       "\n",
       "   R__C_50__50  R__C_5__10  R__C_5__20  R__C_5__50  time_diff  time_diff2  \\\n",
       "0            0           0           1           0   0.031449    0.062907   \n",
       "1            0           0           1           0   0.031904    0.062907   \n",
       "2            0           0           1           0   0.031924    0.063827   \n",
       "3            0           0           1           0   0.031924    0.063847   \n",
       "4            0           0           1           0   0.031893    0.063816   \n",
       "\n",
       "   time_diff3  time_diff4  time_diff5  time_diff6  time_diff7  time_diff8  \\\n",
       "0    0.094386    0.125892    0.157406    0.188908    0.220418     0.25193   \n",
       "1    0.094386    0.125892    0.157406    0.188908    0.220418     0.25193   \n",
       "2    0.094386    0.125892    0.157406    0.188908    0.220418     0.25193   \n",
       "3    0.095751    0.125892    0.157406    0.188908    0.220418     0.25193   \n",
       "4    0.095740    0.127644    0.157406    0.188908    0.220418     0.25193   \n",
       "\n",
       "   u_in_diff1  u_out_diff1  u_in_diff2  u_out_diff2  u_in_diff3  u_out_diff3  \\\n",
       "0    0.000000          0.0    0.000000          0.0    0.000000          0.0   \n",
       "1    7.515046          0.0    7.515046          0.0    7.515046          0.0   \n",
       "2    7.136630          0.0   14.651675          0.0   14.651675          0.0   \n",
       "3    6.578935          0.0   13.715564          0.0   21.230610          0.0   \n",
       "4    5.090346          0.0   11.669281          0.0   18.805911          0.0   \n",
       "\n",
       "   u_in_diff4  u_out_diff4  \n",
       "0    0.000000          0.0  \n",
       "1    7.515046          0.0  \n",
       "2   14.651675          0.0  \n",
       "3   21.230610          0.0  \n",
       "4   26.320956          0.0  "
      ]
     },
     "execution_count": 22,
     "metadata": {},
     "output_type": "execute_result"
    }
   ],
   "source": [
    "test_data = create_new_feat(test_data)\n",
    "test_data = test_data.fillna(test_data.min())\n",
    "test_data.head()"
   ]
  },
  {
   "cell_type": "code",
   "execution_count": 23,
   "id": "4b0425b5",
   "metadata": {
    "execution": {
     "iopub.execute_input": "2021-10-31T03:19:01.282813Z",
     "iopub.status.busy": "2021-10-31T03:19:01.282036Z",
     "iopub.status.idle": "2021-10-31T03:19:15.894108Z",
     "shell.execute_reply": "2021-10-31T03:19:15.894708Z",
     "shell.execute_reply.started": "2021-10-29T06:26:00.64798Z"
    },
    "papermill": {
     "duration": 14.659007,
     "end_time": "2021-10-31T03:19:15.894911",
     "exception": false,
     "start_time": "2021-10-31T03:19:01.235904",
     "status": "completed"
    },
    "tags": []
   },
   "outputs": [
    {
     "name": "stdout",
     "output_type": "stream",
     "text": [
      "Memory usage of dataframe is 1592.60 MB\n",
      "Memory usage after optimization is: 510.40 MB\n",
      "Decreased by 68.0%\n"
     ]
    }
   ],
   "source": [
    "test_data = reduce_memory_usage(test_data)"
   ]
  },
  {
   "cell_type": "code",
   "execution_count": 24,
   "id": "06296fc7",
   "metadata": {
    "execution": {
     "iopub.execute_input": "2021-10-31T03:19:15.986754Z",
     "iopub.status.busy": "2021-10-31T03:19:15.985847Z",
     "iopub.status.idle": "2021-10-31T03:19:50.229623Z",
     "shell.execute_reply": "2021-10-31T03:19:50.229118Z",
     "shell.execute_reply.started": "2021-10-29T06:26:16.050541Z"
    },
    "papermill": {
     "duration": 34.291906,
     "end_time": "2021-10-31T03:19:50.229761",
     "exception": false,
     "start_time": "2021-10-31T03:19:15.937855",
     "status": "completed"
    },
    "tags": []
   },
   "outputs": [],
   "source": [
    "from sklearn.preprocessing import RobustScaler\n",
    "targets = train[['pressure']].to_numpy().reshape(-1, 80)\n",
    "train.drop(['pressure', 'id', 'breath_id'], axis=1, inplace=True)\n",
    "test_data = test_data.drop(['id', 'breath_id'], axis=1)\n",
    "\n",
    "RS = RobustScaler()\n",
    "train = RS.fit_transform(train)\n",
    "test_data = RS.transform(test_data)\n",
    "\n",
    "train = train.reshape(-1, 80, train.shape[-1])\n",
    "test_data = test_data.reshape(-1, 80, train.shape[-1])"
   ]
  },
  {
   "cell_type": "markdown",
   "id": "b34cd4ac",
   "metadata": {
    "papermill": {
     "duration": 0.040517,
     "end_time": "2021-10-31T03:19:50.311971",
     "exception": false,
     "start_time": "2021-10-31T03:19:50.271454",
     "status": "completed"
    },
    "tags": []
   },
   "source": [
    "## Splitting of dependent and independent variable."
   ]
  },
  {
   "cell_type": "code",
   "execution_count": 25,
   "id": "1fa0a4e0",
   "metadata": {
    "execution": {
     "iopub.execute_input": "2021-10-31T03:19:50.398843Z",
     "iopub.status.busy": "2021-10-31T03:19:50.398037Z",
     "iopub.status.idle": "2021-10-31T03:19:50.400064Z",
     "shell.execute_reply": "2021-10-31T03:19:50.400532Z",
     "shell.execute_reply.started": "2021-10-29T06:26:47.610263Z"
    },
    "papermill": {
     "duration": 0.047886,
     "end_time": "2021-10-31T03:19:50.400660",
     "exception": false,
     "start_time": "2021-10-31T03:19:50.352774",
     "status": "completed"
    },
    "tags": []
   },
   "outputs": [],
   "source": [
    "idx_len = round(0.90*len(train))\n",
    "X_train, X_valid = train[0:idx_len], train[idx_len:]\n",
    "y_train, y_valid = targets[0:idx_len], targets[idx_len:]"
   ]
  },
  {
   "cell_type": "markdown",
   "id": "b956a6a6",
   "metadata": {
    "papermill": {
     "duration": 0.040791,
     "end_time": "2021-10-31T03:19:50.481938",
     "exception": false,
     "start_time": "2021-10-31T03:19:50.441147",
     "status": "completed"
    },
    "tags": []
   },
   "source": [
    "## Model"
   ]
  },
  {
   "cell_type": "code",
   "execution_count": 26,
   "id": "d6c03f98",
   "metadata": {
    "execution": {
     "iopub.execute_input": "2021-10-31T03:19:50.571352Z",
     "iopub.status.busy": "2021-10-31T03:19:50.570843Z",
     "iopub.status.idle": "2021-10-31T09:39:53.868106Z",
     "shell.execute_reply": "2021-10-31T09:39:53.868560Z",
     "shell.execute_reply.started": "2021-10-29T06:26:47.619332Z"
    },
    "papermill": {
     "duration": 22803.346206,
     "end_time": "2021-10-31T09:39:53.868731",
     "exception": false,
     "start_time": "2021-10-31T03:19:50.522525",
     "status": "completed"
    },
    "tags": []
   },
   "outputs": [
    {
     "name": "stderr",
     "output_type": "stream",
     "text": [
      "2021-10-31 03:19:50.590520: I tensorflow/compiler/jit/xla_cpu_device.cc:41] Not creating XLA devices, tf_xla_enable_xla_devices not set\n",
      "2021-10-31 03:19:50.594022: I tensorflow/stream_executor/platform/default/dso_loader.cc:49] Successfully opened dynamic library libcuda.so.1\n",
      "2021-10-31 03:19:50.641735: I tensorflow/stream_executor/cuda/cuda_gpu_executor.cc:941] successful NUMA node read from SysFS had negative value (-1), but there must be at least one NUMA node, so returning NUMA node zero\n",
      "2021-10-31 03:19:50.642342: I tensorflow/core/common_runtime/gpu/gpu_device.cc:1720] Found device 0 with properties: \n",
      "pciBusID: 0000:00:04.0 name: Tesla P100-PCIE-16GB computeCapability: 6.0\n",
      "coreClock: 1.3285GHz coreCount: 56 deviceMemorySize: 15.90GiB deviceMemoryBandwidth: 681.88GiB/s\n",
      "2021-10-31 03:19:50.642428: I tensorflow/stream_executor/platform/default/dso_loader.cc:49] Successfully opened dynamic library libcudart.so.11.0\n",
      "2021-10-31 03:19:50.670196: I tensorflow/stream_executor/platform/default/dso_loader.cc:49] Successfully opened dynamic library libcublas.so.11\n",
      "2021-10-31 03:19:50.670293: I tensorflow/stream_executor/platform/default/dso_loader.cc:49] Successfully opened dynamic library libcublasLt.so.11\n",
      "2021-10-31 03:19:50.689072: I tensorflow/stream_executor/platform/default/dso_loader.cc:49] Successfully opened dynamic library libcufft.so.10\n",
      "2021-10-31 03:19:50.698483: I tensorflow/stream_executor/platform/default/dso_loader.cc:49] Successfully opened dynamic library libcurand.so.10\n",
      "2021-10-31 03:19:50.723115: I tensorflow/stream_executor/platform/default/dso_loader.cc:49] Successfully opened dynamic library libcusolver.so.10\n",
      "2021-10-31 03:19:50.729715: I tensorflow/stream_executor/platform/default/dso_loader.cc:49] Successfully opened dynamic library libcusparse.so.11\n",
      "2021-10-31 03:19:50.733725: I tensorflow/stream_executor/platform/default/dso_loader.cc:49] Successfully opened dynamic library libcudnn.so.8\n",
      "2021-10-31 03:19:50.733923: I tensorflow/stream_executor/cuda/cuda_gpu_executor.cc:941] successful NUMA node read from SysFS had negative value (-1), but there must be at least one NUMA node, so returning NUMA node zero\n",
      "2021-10-31 03:19:50.734668: I tensorflow/stream_executor/cuda/cuda_gpu_executor.cc:941] successful NUMA node read from SysFS had negative value (-1), but there must be at least one NUMA node, so returning NUMA node zero\n",
      "2021-10-31 03:19:50.736306: I tensorflow/core/common_runtime/gpu/gpu_device.cc:1862] Adding visible gpu devices: 0\n",
      "2021-10-31 03:19:50.737478: I tensorflow/core/platform/cpu_feature_guard.cc:142] This TensorFlow binary is optimized with oneAPI Deep Neural Network Library (oneDNN) to use the following CPU instructions in performance-critical operations:  AVX2 AVX512F FMA\n",
      "To enable them in other operations, rebuild TensorFlow with the appropriate compiler flags.\n",
      "2021-10-31 03:19:50.737688: I tensorflow/compiler/jit/xla_gpu_device.cc:99] Not creating XLA devices, tf_xla_enable_xla_devices not set\n",
      "2021-10-31 03:19:50.737861: I tensorflow/stream_executor/cuda/cuda_gpu_executor.cc:941] successful NUMA node read from SysFS had negative value (-1), but there must be at least one NUMA node, so returning NUMA node zero\n",
      "2021-10-31 03:19:50.738448: I tensorflow/core/common_runtime/gpu/gpu_device.cc:1720] Found device 0 with properties: \n",
      "pciBusID: 0000:00:04.0 name: Tesla P100-PCIE-16GB computeCapability: 6.0\n",
      "coreClock: 1.3285GHz coreCount: 56 deviceMemorySize: 15.90GiB deviceMemoryBandwidth: 681.88GiB/s\n",
      "2021-10-31 03:19:50.738504: I tensorflow/stream_executor/platform/default/dso_loader.cc:49] Successfully opened dynamic library libcudart.so.11.0\n",
      "2021-10-31 03:19:50.738533: I tensorflow/stream_executor/platform/default/dso_loader.cc:49] Successfully opened dynamic library libcublas.so.11\n",
      "2021-10-31 03:19:50.738555: I tensorflow/stream_executor/platform/default/dso_loader.cc:49] Successfully opened dynamic library libcublasLt.so.11\n",
      "2021-10-31 03:19:50.738577: I tensorflow/stream_executor/platform/default/dso_loader.cc:49] Successfully opened dynamic library libcufft.so.10\n",
      "2021-10-31 03:19:50.738598: I tensorflow/stream_executor/platform/default/dso_loader.cc:49] Successfully opened dynamic library libcurand.so.10\n",
      "2021-10-31 03:19:50.738619: I tensorflow/stream_executor/platform/default/dso_loader.cc:49] Successfully opened dynamic library libcusolver.so.10\n",
      "2021-10-31 03:19:50.738641: I tensorflow/stream_executor/platform/default/dso_loader.cc:49] Successfully opened dynamic library libcusparse.so.11\n",
      "2021-10-31 03:19:50.738663: I tensorflow/stream_executor/platform/default/dso_loader.cc:49] Successfully opened dynamic library libcudnn.so.8\n",
      "2021-10-31 03:19:50.738743: I tensorflow/stream_executor/cuda/cuda_gpu_executor.cc:941] successful NUMA node read from SysFS had negative value (-1), but there must be at least one NUMA node, so returning NUMA node zero\n",
      "2021-10-31 03:19:50.739382: I tensorflow/stream_executor/cuda/cuda_gpu_executor.cc:941] successful NUMA node read from SysFS had negative value (-1), but there must be at least one NUMA node, so returning NUMA node zero\n",
      "2021-10-31 03:19:50.739916: I tensorflow/core/common_runtime/gpu/gpu_device.cc:1862] Adding visible gpu devices: 0\n",
      "2021-10-31 03:19:50.740872: I tensorflow/stream_executor/platform/default/dso_loader.cc:49] Successfully opened dynamic library libcudart.so.11.0\n",
      "2021-10-31 03:19:52.102200: I tensorflow/core/common_runtime/gpu/gpu_device.cc:1261] Device interconnect StreamExecutor with strength 1 edge matrix:\n",
      "2021-10-31 03:19:52.102249: I tensorflow/core/common_runtime/gpu/gpu_device.cc:1267]      0 \n",
      "2021-10-31 03:19:52.102260: I tensorflow/core/common_runtime/gpu/gpu_device.cc:1280] 0:   N \n",
      "2021-10-31 03:19:52.104511: I tensorflow/stream_executor/cuda/cuda_gpu_executor.cc:941] successful NUMA node read from SysFS had negative value (-1), but there must be at least one NUMA node, so returning NUMA node zero\n",
      "2021-10-31 03:19:52.105207: I tensorflow/stream_executor/cuda/cuda_gpu_executor.cc:941] successful NUMA node read from SysFS had negative value (-1), but there must be at least one NUMA node, so returning NUMA node zero\n",
      "2021-10-31 03:19:52.105886: I tensorflow/stream_executor/cuda/cuda_gpu_executor.cc:941] successful NUMA node read from SysFS had negative value (-1), but there must be at least one NUMA node, so returning NUMA node zero\n",
      "2021-10-31 03:19:52.106461: I tensorflow/core/common_runtime/gpu/gpu_device.cc:1406] Created TensorFlow device (/job:localhost/replica:0/task:0/device:GPU:0 with 14957 MB memory) -> physical GPU (device: 0, name: Tesla P100-PCIE-16GB, pci bus id: 0000:00:04.0, compute capability: 6.0)\n",
      "2021-10-31 03:19:57.996723: W tensorflow/core/framework/cpu_allocator_impl.cc:80] Allocation of 1368964800 exceeds 10% of free system memory.\n",
      "2021-10-31 03:19:59.063770: I tensorflow/compiler/mlir/mlir_graph_optimization_pass.cc:116] None of the MLIR optimization passes are enabled (registered 2)\n",
      "2021-10-31 03:19:59.075719: I tensorflow/core/platform/profile_utils/cpu_utils.cc:112] CPU Frequency: 2000175000 Hz\n"
     ]
    },
    {
     "name": "stdout",
     "output_type": "stream",
     "text": [
      "Epoch 1/500\n"
     ]
    },
    {
     "name": "stderr",
     "output_type": "stream",
     "text": [
      "2021-10-31 03:20:07.422039: I tensorflow/stream_executor/platform/default/dso_loader.cc:49] Successfully opened dynamic library libcublas.so.11\n",
      "2021-10-31 03:20:08.223896: I tensorflow/stream_executor/platform/default/dso_loader.cc:49] Successfully opened dynamic library libcublasLt.so.11\n",
      "2021-10-31 03:20:08.275236: I tensorflow/stream_executor/platform/default/dso_loader.cc:49] Successfully opened dynamic library libcudnn.so.8\n"
     ]
    },
    {
     "name": "stdout",
     "output_type": "stream",
     "text": [
      "266/266 [==============================] - 149s 506ms/step - loss: 2.3946 - val_loss: 0.5925\n",
      "Epoch 2/500\n",
      "266/266 [==============================] - 132s 494ms/step - loss: 0.5566 - val_loss: 0.5101\n",
      "Epoch 3/500\n",
      "266/266 [==============================] - 131s 494ms/step - loss: 0.4808 - val_loss: 0.4365\n",
      "Epoch 4/500\n",
      "266/266 [==============================] - 131s 494ms/step - loss: 0.4285 - val_loss: 0.3884\n",
      "Epoch 5/500\n",
      "266/266 [==============================] - 132s 495ms/step - loss: 0.3952 - val_loss: 0.4171\n",
      "Epoch 6/500\n",
      "266/266 [==============================] - 132s 495ms/step - loss: 0.3758 - val_loss: 0.3553\n",
      "Epoch 7/500\n",
      "266/266 [==============================] - 131s 494ms/step - loss: 0.3427 - val_loss: 0.3529\n",
      "Epoch 8/500\n",
      "266/266 [==============================] - 132s 495ms/step - loss: 0.3311 - val_loss: 0.3335\n",
      "Epoch 9/500\n",
      "266/266 [==============================] - 132s 495ms/step - loss: 0.3505 - val_loss: 0.3602\n",
      "Epoch 10/500\n",
      "266/266 [==============================] - 132s 495ms/step - loss: 0.3153 - val_loss: 0.3133\n",
      "Epoch 11/500\n",
      "266/266 [==============================] - 132s 495ms/step - loss: 0.3026 - val_loss: 0.3040\n",
      "Epoch 12/500\n",
      "266/266 [==============================] - 132s 495ms/step - loss: 0.2837 - val_loss: 0.3044\n",
      "Epoch 13/500\n",
      "266/266 [==============================] - 131s 494ms/step - loss: 0.2782 - val_loss: 0.2817\n",
      "Epoch 14/500\n",
      "266/266 [==============================] - 131s 494ms/step - loss: 0.2733 - val_loss: 0.2662\n",
      "Epoch 15/500\n",
      "266/266 [==============================] - 132s 495ms/step - loss: 0.2621 - val_loss: 0.2670\n",
      "Epoch 16/500\n",
      "266/266 [==============================] - 132s 496ms/step - loss: 0.2566 - val_loss: 0.2981\n",
      "Epoch 17/500\n",
      "266/266 [==============================] - 132s 496ms/step - loss: 0.2642 - val_loss: 0.2494\n",
      "Epoch 18/500\n",
      "266/266 [==============================] - 132s 495ms/step - loss: 0.2638 - val_loss: 0.2686\n",
      "Epoch 19/500\n",
      "266/266 [==============================] - 131s 494ms/step - loss: 0.2528 - val_loss: 0.2487\n",
      "Epoch 20/500\n",
      "266/266 [==============================] - 131s 494ms/step - loss: 0.2401 - val_loss: 0.2693\n",
      "Epoch 21/500\n",
      "266/266 [==============================] - 132s 494ms/step - loss: 0.2453 - val_loss: 0.2709\n",
      "Epoch 22/500\n",
      "266/266 [==============================] - 131s 494ms/step - loss: 0.2514 - val_loss: 0.2447\n",
      "Epoch 23/500\n",
      "266/266 [==============================] - 132s 495ms/step - loss: 0.2389 - val_loss: 0.2406\n",
      "Epoch 24/500\n",
      "266/266 [==============================] - 132s 495ms/step - loss: 0.2301 - val_loss: 0.2346\n",
      "Epoch 25/500\n",
      "266/266 [==============================] - 132s 496ms/step - loss: 0.2276 - val_loss: 0.2380\n",
      "Epoch 26/500\n",
      "266/266 [==============================] - 132s 495ms/step - loss: 0.2257 - val_loss: 0.2455\n",
      "Epoch 27/500\n",
      "266/266 [==============================] - 132s 495ms/step - loss: 0.2335 - val_loss: 0.2268\n",
      "Epoch 28/500\n",
      "266/266 [==============================] - 132s 495ms/step - loss: 0.2166 - val_loss: 0.2372\n",
      "Epoch 29/500\n",
      "266/266 [==============================] - 132s 495ms/step - loss: 0.2125 - val_loss: 0.2323\n",
      "Epoch 30/500\n",
      "266/266 [==============================] - 132s 495ms/step - loss: 0.2082 - val_loss: 0.2405\n",
      "Epoch 31/500\n",
      "266/266 [==============================] - 132s 495ms/step - loss: 0.2215 - val_loss: 0.2605\n",
      "Epoch 32/500\n",
      "266/266 [==============================] - 132s 494ms/step - loss: 0.2245 - val_loss: 0.2268\n",
      "Epoch 33/500\n",
      "266/266 [==============================] - 132s 495ms/step - loss: 0.2070 - val_loss: 0.2252\n",
      "Epoch 34/500\n",
      "266/266 [==============================] - 132s 496ms/step - loss: 0.2087 - val_loss: 0.2144\n",
      "Epoch 35/500\n",
      "266/266 [==============================] - 132s 495ms/step - loss: 0.1984 - val_loss: 0.2087\n",
      "Epoch 36/500\n",
      "266/266 [==============================] - 132s 495ms/step - loss: 0.1901 - val_loss: 0.2118\n",
      "Epoch 37/500\n",
      "266/266 [==============================] - 132s 495ms/step - loss: 0.1980 - val_loss: 0.2142\n",
      "Epoch 38/500\n",
      "266/266 [==============================] - 132s 496ms/step - loss: 0.1899 - val_loss: 0.2123\n",
      "Epoch 39/500\n",
      "266/266 [==============================] - 132s 495ms/step - loss: 0.1885 - val_loss: 0.2231\n",
      "Epoch 40/500\n",
      "266/266 [==============================] - 132s 495ms/step - loss: 0.1994 - val_loss: 0.2184\n",
      "Epoch 41/500\n",
      "266/266 [==============================] - 132s 495ms/step - loss: 0.1996 - val_loss: 0.2065\n",
      "Epoch 42/500\n",
      "266/266 [==============================] - 132s 494ms/step - loss: 0.1868 - val_loss: 0.2396\n",
      "Epoch 43/500\n",
      "266/266 [==============================] - 132s 495ms/step - loss: 0.2081 - val_loss: 0.2080\n",
      "Epoch 44/500\n",
      "266/266 [==============================] - 131s 494ms/step - loss: 0.1884 - val_loss: 0.2083\n",
      "Epoch 45/500\n",
      "266/266 [==============================] - 132s 495ms/step - loss: 0.1880 - val_loss: 0.2107\n",
      "Epoch 46/500\n",
      "266/266 [==============================] - 132s 495ms/step - loss: 0.1789 - val_loss: 0.2048\n",
      "Epoch 47/500\n",
      "266/266 [==============================] - 132s 495ms/step - loss: 0.1759 - val_loss: 0.2086\n",
      "Epoch 48/500\n",
      "266/266 [==============================] - 132s 495ms/step - loss: 0.1720 - val_loss: 0.2006\n",
      "Epoch 49/500\n",
      "266/266 [==============================] - 132s 496ms/step - loss: 0.1805 - val_loss: 0.2064\n",
      "Epoch 50/500\n",
      "266/266 [==============================] - 132s 495ms/step - loss: 0.1781 - val_loss: 0.1956\n",
      "Epoch 51/500\n",
      "266/266 [==============================] - 131s 494ms/step - loss: 0.1698 - val_loss: 0.1967\n",
      "Epoch 52/500\n",
      "266/266 [==============================] - 132s 495ms/step - loss: 0.1746 - val_loss: 0.1985\n",
      "Epoch 53/500\n",
      "266/266 [==============================] - 132s 495ms/step - loss: 0.1717 - val_loss: 0.2016\n",
      "Epoch 54/500\n",
      "266/266 [==============================] - 132s 495ms/step - loss: 0.1671 - val_loss: 0.2014\n",
      "Epoch 55/500\n",
      "266/266 [==============================] - 132s 495ms/step - loss: 0.1658 - val_loss: 0.1928\n",
      "Epoch 56/500\n",
      "266/266 [==============================] - 132s 496ms/step - loss: 0.1626 - val_loss: 0.2090\n",
      "Epoch 57/500\n",
      "266/266 [==============================] - 131s 494ms/step - loss: 0.1630 - val_loss: 0.1990\n",
      "Epoch 58/500\n",
      "266/266 [==============================] - 132s 495ms/step - loss: 0.1578 - val_loss: 0.1903\n",
      "Epoch 59/500\n",
      "266/266 [==============================] - 132s 495ms/step - loss: 0.1585 - val_loss: 0.1978\n",
      "Epoch 60/500\n",
      "266/266 [==============================] - 132s 495ms/step - loss: 0.1612 - val_loss: 0.1950\n",
      "Epoch 61/500\n",
      "266/266 [==============================] - 132s 495ms/step - loss: 0.1596 - val_loss: 0.1896\n",
      "Epoch 62/500\n",
      "266/266 [==============================] - 132s 495ms/step - loss: 0.1588 - val_loss: 0.2101\n",
      "Epoch 63/500\n",
      "266/266 [==============================] - 132s 495ms/step - loss: 0.1608 - val_loss: 0.1909\n",
      "Epoch 64/500\n",
      "266/266 [==============================] - 132s 495ms/step - loss: 0.1628 - val_loss: 0.1976\n",
      "Epoch 65/500\n",
      "266/266 [==============================] - 132s 495ms/step - loss: 0.1522 - val_loss: 0.1982\n",
      "Epoch 66/500\n",
      "266/266 [==============================] - 132s 495ms/step - loss: 0.1597 - val_loss: 0.1881\n",
      "Epoch 67/500\n",
      "266/266 [==============================] - 132s 496ms/step - loss: 0.1517 - val_loss: 0.1968\n",
      "Epoch 68/500\n",
      "266/266 [==============================] - 132s 495ms/step - loss: 0.1506 - val_loss: 0.1864\n",
      "Epoch 69/500\n",
      "266/266 [==============================] - 132s 495ms/step - loss: 0.1468 - val_loss: 0.1933\n",
      "Epoch 70/500\n",
      "266/266 [==============================] - 132s 495ms/step - loss: 0.1452 - val_loss: 0.1857\n",
      "Epoch 71/500\n",
      "266/266 [==============================] - 132s 495ms/step - loss: 0.1449 - val_loss: 0.1804\n",
      "Epoch 72/500\n",
      "266/266 [==============================] - 132s 495ms/step - loss: 0.1407 - val_loss: 0.1813\n",
      "Epoch 73/500\n",
      "266/266 [==============================] - 132s 495ms/step - loss: 0.1376 - val_loss: 0.1891\n",
      "Epoch 74/500\n",
      "266/266 [==============================] - 132s 496ms/step - loss: 0.1454 - val_loss: 0.1847\n",
      "Epoch 75/500\n",
      "266/266 [==============================] - 132s 496ms/step - loss: 0.1398 - val_loss: 0.1795\n",
      "Epoch 76/500\n",
      "266/266 [==============================] - 132s 495ms/step - loss: 0.1384 - val_loss: 0.1800\n",
      "Epoch 77/500\n",
      "266/266 [==============================] - 132s 495ms/step - loss: 0.1334 - val_loss: 0.1793\n",
      "Epoch 78/500\n",
      "266/266 [==============================] - 132s 495ms/step - loss: 0.1304 - val_loss: 0.1783\n",
      "Epoch 79/500\n",
      "266/266 [==============================] - 132s 495ms/step - loss: 0.1296 - val_loss: 0.1763\n",
      "Epoch 80/500\n",
      "266/266 [==============================] - 131s 494ms/step - loss: 0.1282 - val_loss: 0.1845\n",
      "Epoch 81/500\n",
      "266/266 [==============================] - 132s 495ms/step - loss: 0.1410 - val_loss: 0.1879\n",
      "Epoch 82/500\n",
      "266/266 [==============================] - 132s 495ms/step - loss: 0.1340 - val_loss: 0.1920\n",
      "Epoch 83/500\n",
      "266/266 [==============================] - 132s 495ms/step - loss: 0.1415 - val_loss: 0.2242\n",
      "Epoch 84/500\n",
      "266/266 [==============================] - 132s 495ms/step - loss: 0.1642 - val_loss: 0.1917\n",
      "Epoch 85/500\n",
      "266/266 [==============================] - 132s 495ms/step - loss: 0.1452 - val_loss: 0.2009\n",
      "Epoch 86/500\n",
      "266/266 [==============================] - 132s 495ms/step - loss: 0.1548 - val_loss: 0.1874\n",
      "Epoch 87/500\n",
      "266/266 [==============================] - 132s 495ms/step - loss: 0.1374 - val_loss: 0.1790\n",
      "Epoch 88/500\n",
      "266/266 [==============================] - 132s 495ms/step - loss: 0.1270 - val_loss: 0.1753\n",
      "Epoch 89/500\n",
      "266/266 [==============================] - 132s 495ms/step - loss: 0.1211 - val_loss: 0.1778\n",
      "Epoch 90/500\n",
      "266/266 [==============================] - 132s 495ms/step - loss: 0.1170 - val_loss: 0.1772\n",
      "Epoch 91/500\n",
      "266/266 [==============================] - 132s 495ms/step - loss: 0.1186 - val_loss: 0.1755\n",
      "Epoch 92/500\n",
      "266/266 [==============================] - 132s 495ms/step - loss: 0.1156 - val_loss: 0.1806\n",
      "Epoch 93/500\n",
      "266/266 [==============================] - 132s 495ms/step - loss: 0.1188 - val_loss: 0.1767\n",
      "Epoch 94/500\n",
      "266/266 [==============================] - 132s 495ms/step - loss: 0.1164 - val_loss: 0.1805\n",
      "Epoch 95/500\n",
      "266/266 [==============================] - 132s 495ms/step - loss: 0.1201 - val_loss: 0.1876\n",
      "Epoch 96/500\n",
      "266/266 [==============================] - 132s 495ms/step - loss: 0.1252 - val_loss: 0.1791\n",
      "Epoch 97/500\n",
      "266/266 [==============================] - 132s 495ms/step - loss: 0.1174 - val_loss: 0.1748\n",
      "Epoch 98/500\n",
      "266/266 [==============================] - 132s 495ms/step - loss: 0.1149 - val_loss: 0.1752\n",
      "Epoch 99/500\n",
      "266/266 [==============================] - 132s 495ms/step - loss: 0.1141 - val_loss: 0.1776\n",
      "Epoch 100/500\n",
      "266/266 [==============================] - 132s 496ms/step - loss: 0.1169 - val_loss: 0.1778\n",
      "Epoch 101/500\n",
      "266/266 [==============================] - 132s 495ms/step - loss: 0.1140 - val_loss: 0.1757\n",
      "Epoch 102/500\n",
      "266/266 [==============================] - 132s 495ms/step - loss: 0.1122 - val_loss: 0.1807\n",
      "Epoch 103/500\n",
      "266/266 [==============================] - 132s 495ms/step - loss: 0.1122 - val_loss: 0.1797\n",
      "Epoch 104/500\n",
      "266/266 [==============================] - 132s 496ms/step - loss: 0.1090 - val_loss: 0.1772\n",
      "Epoch 105/500\n",
      "266/266 [==============================] - 132s 495ms/step - loss: 0.1104 - val_loss: 0.1832\n",
      "Epoch 106/500\n",
      "266/266 [==============================] - 132s 495ms/step - loss: 0.1251 - val_loss: 0.1804\n",
      "Epoch 107/500\n",
      "266/266 [==============================] - 132s 496ms/step - loss: 0.1188 - val_loss: 0.1813\n",
      "\n",
      "Epoch 00107: ReduceLROnPlateau reducing learning rate to 0.0005000000237487257.\n",
      "Epoch 108/500\n",
      "266/266 [==============================] - 132s 496ms/step - loss: 0.1081 - val_loss: 0.1702\n",
      "Epoch 109/500\n",
      "266/266 [==============================] - 132s 497ms/step - loss: 0.0930 - val_loss: 0.1684\n",
      "Epoch 110/500\n",
      "266/266 [==============================] - 132s 497ms/step - loss: 0.0878 - val_loss: 0.1665\n",
      "Epoch 111/500\n",
      "266/266 [==============================] - 132s 497ms/step - loss: 0.0851 - val_loss: 0.1682\n",
      "Epoch 112/500\n",
      "266/266 [==============================] - 132s 497ms/step - loss: 0.0841 - val_loss: 0.1705\n",
      "Epoch 113/500\n",
      "266/266 [==============================] - 132s 497ms/step - loss: 0.0836 - val_loss: 0.1672\n",
      "Epoch 114/500\n",
      "266/266 [==============================] - 132s 497ms/step - loss: 0.0811 - val_loss: 0.1675\n",
      "Epoch 115/500\n",
      "266/266 [==============================] - 132s 496ms/step - loss: 0.0803 - val_loss: 0.1677\n",
      "Epoch 116/500\n",
      "266/266 [==============================] - 132s 497ms/step - loss: 0.0798 - val_loss: 0.1678\n",
      "Epoch 117/500\n",
      "266/266 [==============================] - 132s 496ms/step - loss: 0.0785 - val_loss: 0.1685\n",
      "Epoch 118/500\n",
      "266/266 [==============================] - 132s 496ms/step - loss: 0.0778 - val_loss: 0.1690\n",
      "Epoch 119/500\n",
      "266/266 [==============================] - 132s 495ms/step - loss: 0.0775 - val_loss: 0.1675\n",
      "Epoch 120/500\n",
      "266/266 [==============================] - 132s 495ms/step - loss: 0.0759 - val_loss: 0.1669\n",
      "\n",
      "Epoch 00120: ReduceLROnPlateau reducing learning rate to 0.0002500000118743628.\n",
      "Epoch 121/500\n",
      "266/266 [==============================] - 132s 495ms/step - loss: 0.0706 - val_loss: 0.1657\n",
      "Epoch 122/500\n",
      "266/266 [==============================] - 132s 495ms/step - loss: 0.0659 - val_loss: 0.1660\n",
      "Epoch 123/500\n",
      "266/266 [==============================] - 132s 495ms/step - loss: 0.0643 - val_loss: 0.1654\n",
      "Epoch 124/500\n",
      "266/266 [==============================] - 132s 496ms/step - loss: 0.0631 - val_loss: 0.1660\n",
      "Epoch 125/500\n",
      "266/266 [==============================] - 132s 495ms/step - loss: 0.0629 - val_loss: 0.1667\n",
      "Epoch 126/500\n",
      "266/266 [==============================] - 132s 495ms/step - loss: 0.0628 - val_loss: 0.1662\n",
      "Epoch 127/500\n",
      "266/266 [==============================] - 132s 495ms/step - loss: 0.0617 - val_loss: 0.1659\n",
      "Epoch 128/500\n",
      "266/266 [==============================] - 131s 494ms/step - loss: 0.0608 - val_loss: 0.1661\n",
      "Epoch 129/500\n",
      "266/266 [==============================] - 132s 495ms/step - loss: 0.0607 - val_loss: 0.1665\n",
      "Epoch 130/500\n",
      "266/266 [==============================] - 132s 495ms/step - loss: 0.0598 - val_loss: 0.1660\n",
      "Epoch 131/500\n",
      "266/266 [==============================] - 132s 495ms/step - loss: 0.0593 - val_loss: 0.1665\n",
      "Epoch 132/500\n",
      "266/266 [==============================] - 131s 494ms/step - loss: 0.0583 - val_loss: 0.1669\n",
      "Epoch 133/500\n",
      "266/266 [==============================] - 132s 495ms/step - loss: 0.0579 - val_loss: 0.1665\n",
      "\n",
      "Epoch 00133: ReduceLROnPlateau reducing learning rate to 0.0001250000059371814.\n",
      "Epoch 134/500\n",
      "266/266 [==============================] - 132s 495ms/step - loss: 0.0553 - val_loss: 0.1660\n",
      "Epoch 135/500\n",
      "266/266 [==============================] - 132s 495ms/step - loss: 0.0529 - val_loss: 0.1658\n",
      "Epoch 136/500\n",
      "266/266 [==============================] - 132s 495ms/step - loss: 0.0521 - val_loss: 0.1661\n",
      "Epoch 137/500\n",
      "266/266 [==============================] - 132s 494ms/step - loss: 0.0514 - val_loss: 0.1658\n",
      "Epoch 138/500\n",
      "266/266 [==============================] - 132s 495ms/step - loss: 0.0509 - val_loss: 0.1662\n",
      "Epoch 139/500\n",
      "266/266 [==============================] - 132s 495ms/step - loss: 0.0506 - val_loss: 0.1661\n",
      "Epoch 140/500\n",
      "266/266 [==============================] - 132s 495ms/step - loss: 0.0505 - val_loss: 0.1665\n",
      "Epoch 141/500\n",
      "266/266 [==============================] - 132s 495ms/step - loss: 0.0500 - val_loss: 0.1662\n",
      "Epoch 142/500\n",
      "266/266 [==============================] - 131s 494ms/step - loss: 0.0499 - val_loss: 0.1667\n",
      "Epoch 143/500\n",
      "266/266 [==============================] - 132s 495ms/step - loss: 0.0494 - val_loss: 0.1667\n",
      "\n",
      "Epoch 00143: ReduceLROnPlateau reducing learning rate to 6.25000029685907e-05.\n",
      "Epoch 144/500\n",
      "266/266 [==============================] - 131s 494ms/step - loss: 0.0483 - val_loss: 0.1664\n",
      "Epoch 145/500\n",
      "266/266 [==============================] - 132s 495ms/step - loss: 0.0468 - val_loss: 0.1664\n",
      "Epoch 146/500\n",
      "266/266 [==============================] - 132s 496ms/step - loss: 0.0466 - val_loss: 0.1666\n",
      "Epoch 147/500\n",
      "266/266 [==============================] - 132s 496ms/step - loss: 0.0463 - val_loss: 0.1667\n",
      "Epoch 148/500\n",
      "266/266 [==============================] - 132s 496ms/step - loss: 0.0464 - val_loss: 0.1665\n",
      "Epoch 149/500\n",
      "266/266 [==============================] - 131s 494ms/step - loss: 0.0457 - val_loss: 0.1667\n",
      "Epoch 150/500\n",
      "266/266 [==============================] - 132s 495ms/step - loss: 0.0456 - val_loss: 0.1671\n",
      "Epoch 151/500\n",
      "266/266 [==============================] - 132s 495ms/step - loss: 0.0456 - val_loss: 0.1669\n",
      "Epoch 152/500\n",
      "266/266 [==============================] - 132s 495ms/step - loss: 0.0452 - val_loss: 0.1670\n",
      "Epoch 153/500\n",
      "266/266 [==============================] - 132s 495ms/step - loss: 0.0452 - val_loss: 0.1668\n",
      "\n",
      "Epoch 00153: ReduceLROnPlateau reducing learning rate to 3.125000148429535e-05.\n",
      "Epoch 154/500\n",
      "266/266 [==============================] - 131s 494ms/step - loss: 0.0446 - val_loss: 0.1668\n",
      "Epoch 155/500\n",
      "266/266 [==============================] - 131s 494ms/step - loss: 0.0441 - val_loss: 0.1669\n",
      "Epoch 156/500\n",
      "266/266 [==============================] - 132s 495ms/step - loss: 0.0436 - val_loss: 0.1670\n",
      "Epoch 157/500\n",
      "266/266 [==============================] - 131s 494ms/step - loss: 0.0436 - val_loss: 0.1670\n",
      "Epoch 158/500\n",
      "266/266 [==============================] - 132s 495ms/step - loss: 0.0434 - val_loss: 0.1671\n",
      "Epoch 159/500\n",
      "266/266 [==============================] - 132s 495ms/step - loss: 0.0435 - val_loss: 0.1670\n",
      "Epoch 160/500\n",
      "266/266 [==============================] - 131s 494ms/step - loss: 0.0433 - val_loss: 0.1671\n",
      "Epoch 161/500\n",
      "266/266 [==============================] - 131s 494ms/step - loss: 0.0431 - val_loss: 0.1671\n",
      "Epoch 162/500\n",
      "266/266 [==============================] - 131s 494ms/step - loss: 0.0428 - val_loss: 0.1671\n",
      "Epoch 163/500\n",
      "266/266 [==============================] - 131s 494ms/step - loss: 0.0428 - val_loss: 0.1672\n",
      "\n",
      "Epoch 00163: ReduceLROnPlateau reducing learning rate to 1.5625000742147677e-05.\n",
      "Epoch 164/500\n",
      "266/266 [==============================] - 131s 494ms/step - loss: 0.0426 - val_loss: 0.1672\n",
      "Epoch 165/500\n",
      "266/266 [==============================] - 132s 495ms/step - loss: 0.0423 - val_loss: 0.1672\n",
      "Epoch 166/500\n",
      "266/266 [==============================] - 132s 494ms/step - loss: 0.0421 - val_loss: 0.1672\n",
      "Epoch 167/500\n",
      "266/266 [==============================] - 132s 495ms/step - loss: 0.0422 - val_loss: 0.1673\n",
      "Epoch 168/500\n",
      "266/266 [==============================] - 131s 494ms/step - loss: 0.0421 - val_loss: 0.1673\n",
      "Epoch 169/500\n",
      "266/266 [==============================] - 131s 494ms/step - loss: 0.0420 - val_loss: 0.1673\n",
      "Epoch 170/500\n",
      "266/266 [==============================] - 132s 495ms/step - loss: 0.0419 - val_loss: 0.1672\n",
      "Epoch 171/500\n",
      "266/266 [==============================] - 131s 494ms/step - loss: 0.0419 - val_loss: 0.1673\n",
      "Epoch 172/500\n",
      "266/266 [==============================] - 131s 494ms/step - loss: 0.0419 - val_loss: 0.1673\n",
      "Epoch 173/500\n",
      "266/266 [==============================] - 131s 494ms/step - loss: 0.0419 - val_loss: 0.1674\n",
      "\n",
      "Epoch 00173: ReduceLROnPlateau reducing learning rate to 7.812500371073838e-06.\n",
      "Restoring model weights from the end of the best epoch.\n",
      "Epoch 00173: early stopping\n"
     ]
    }
   ],
   "source": [
    "EPOCH = 500\n",
    "BATCH_SIZE = 256\n",
    "\n",
    "lr = ReduceLROnPlateau(monitor=\"val_loss\", factor=0.5, patience=10, verbose=1)\n",
    "es = EarlyStopping(monitor=\"val_loss\", patience=50, verbose=1, mode=\"min\", restore_best_weights=True)\n",
    "\n",
    "model = keras.models.Sequential([\n",
    "keras.layers.Input(shape=train.shape[-2:]),    \n",
    "keras.layers.Bidirectional(keras.layers.LSTM(1024, return_sequences=True)),\n",
    "keras.layers.Bidirectional(keras.layers.LSTM(512, return_sequences=True)),\n",
    "keras.layers.Bidirectional(keras.layers.LSTM(256, return_sequences=True)),\n",
    "keras.layers.Bidirectional(keras.layers.LSTM(128, return_sequences=True)),\n",
    "keras.layers.Dense(64, activation='selu'),\n",
    "keras.layers.Dense(1),\n",
    "])\n",
    "\n",
    "model.compile(optimizer=\"adam\", loss=\"mae\")\n",
    "\n",
    "history = model.fit(X_train, y_train, validation_data=(X_valid, y_valid), \n",
    "                    epochs=EPOCH, batch_size=BATCH_SIZE, callbacks=[lr, es])"
   ]
  },
  {
   "cell_type": "code",
   "execution_count": 27,
   "id": "cfb53d5d",
   "metadata": {
    "execution": {
     "iopub.execute_input": "2021-10-31T09:40:19.437600Z",
     "iopub.status.busy": "2021-10-31T09:40:19.436638Z",
     "iopub.status.idle": "2021-10-31T09:40:19.677918Z",
     "shell.execute_reply": "2021-10-31T09:40:19.678458Z",
     "shell.execute_reply.started": "2021-10-29T06:29:12.11484Z"
    },
    "papermill": {
     "duration": 12.693085,
     "end_time": "2021-10-31T09:40:19.678607",
     "exception": false,
     "start_time": "2021-10-31T09:40:06.985522",
     "status": "completed"
    },
    "tags": []
   },
   "outputs": [
    {
     "data": {
      "image/png": "[encoded data removed]",
      "text/plain": [
       "<Figure size 1080x216 with 1 Axes>"
      ]
     },
     "metadata": {},
     "output_type": "display_data"
    }
   ],
   "source": [
    "plt.figure(figsize=(15,3))\n",
    "plt.plot(history.history['loss'])\n",
    "plt.plot(history.history['val_loss'])\n",
    "plt.show()"
   ]
  },
  {
   "cell_type": "markdown",
   "id": "9b16a0ed",
   "metadata": {
    "papermill": {
     "duration": 12.806896,
     "end_time": "2021-10-31T09:40:45.132989",
     "exception": false,
     "start_time": "2021-10-31T09:40:32.326093",
     "status": "completed"
    },
    "tags": []
   },
   "source": [
    "## Prediction"
   ]
  },
  {
   "cell_type": "code",
   "execution_count": 28,
   "id": "32772609",
   "metadata": {
    "execution": {
     "iopub.execute_input": "2021-10-31T09:41:10.416813Z",
     "iopub.status.busy": "2021-10-31T09:41:10.416026Z",
     "iopub.status.idle": "2021-10-31T09:41:49.024603Z",
     "shell.execute_reply": "2021-10-31T09:41:49.025668Z",
     "shell.execute_reply.started": "2021-10-29T06:29:12.117338Z"
    },
    "papermill": {
     "duration": 51.399029,
     "end_time": "2021-10-31T09:41:49.025896",
     "exception": false,
     "start_time": "2021-10-31T09:40:57.626867",
     "status": "completed"
    },
    "tags": []
   },
   "outputs": [
    {
     "name": "stderr",
     "output_type": "stream",
     "text": [
      "2021-10-31 09:41:11.949040: W tensorflow/core/framework/cpu_allocator_impl.cc:80] Allocation of 1014048000 exceeds 10% of free system memory.\n"
     ]
    }
   ],
   "source": [
    "pred = model.predict(test_data, batch_size=BATCH_SIZE)"
   ]
  },
  {
   "cell_type": "code",
   "execution_count": 29,
   "id": "797901ba",
   "metadata": {
    "execution": {
     "iopub.execute_input": "2021-10-31T09:42:14.288758Z",
     "iopub.status.busy": "2021-10-31T09:42:14.287996Z",
     "iopub.status.idle": "2021-10-31T09:42:14.290496Z",
     "shell.execute_reply": "2021-10-31T09:42:14.290063Z",
     "shell.execute_reply.started": "2021-10-29T06:29:12.119939Z"
    },
    "papermill": {
     "duration": 12.673599,
     "end_time": "2021-10-31T09:42:14.290614",
     "exception": false,
     "start_time": "2021-10-31T09:42:01.617015",
     "status": "completed"
    },
    "tags": []
   },
   "outputs": [],
   "source": [
    "# sample = pd.read_csv('../input/ventilator-pressure-prediction/sample_submission.csv')\n",
    "# sample['id'] = test_data['id']\n",
    "# sample['pressure'] = pd.DataFrame({'pressure': pred[:]})\n",
    "# sample.head()"
   ]
  },
  {
   "cell_type": "code",
   "execution_count": 30,
   "id": "08baf023",
   "metadata": {
    "execution": {
     "iopub.execute_input": "2021-10-31T09:42:39.063354Z",
     "iopub.status.busy": "2021-10-31T09:42:39.062651Z",
     "iopub.status.idle": "2021-10-31T09:42:56.996031Z",
     "shell.execute_reply": "2021-10-31T09:42:56.995128Z",
     "shell.execute_reply.started": "2021-10-29T06:29:12.122495Z"
    },
    "papermill": {
     "duration": 30.378198,
     "end_time": "2021-10-31T09:42:56.996177",
     "exception": false,
     "start_time": "2021-10-31T09:42:26.617979",
     "status": "completed"
    },
    "tags": []
   },
   "outputs": [],
   "source": [
    "sample = pd.read_csv('../input/ventilator-pressure-prediction/sample_submission.csv')\n",
    "sample['pressure'] = pred.squeeze().reshape(-1, 1).squeeze()\n",
    "\n",
    "q1 = sample['pressure'].quantile(0.001)\n",
    "q2 = sample['pressure'].quantile(0.999)\n",
    "sample['pressure'] = sample['pressure'].apply(lambda x: x if x>q1 else x*0.77)\n",
    "sample['pressure'] = sample['pressure'].apply(lambda x: x if x<q2 else x*1.1)\n",
    "sample.to_csv('submission_LSTM.csv', index=False)"
   ]
  },
  {
   "cell_type": "markdown",
   "id": "a0a38a0e",
   "metadata": {
    "papermill": {
     "duration": 12.982891,
     "end_time": "2021-10-31T09:43:22.155116",
     "exception": false,
     "start_time": "2021-10-31T09:43:09.172225",
     "status": "completed"
    },
    "tags": []
   },
   "source": [
    "## Thank you!!!\n",
    "## Hope you enjoyed this notebook. 😊"
   ]
  },
  {
   "cell_type": "code",
   "execution_count": null,
   "id": "73fc0cfb",
   "metadata": {
    "papermill": {
     "duration": 12.50835,
     "end_time": "2021-10-31T09:43:47.166483",
     "exception": false,
     "start_time": "2021-10-31T09:43:34.658133",
     "status": "completed"
    },
    "tags": []
   },
   "outputs": [],
   "source": []
  }
 ],
 "metadata": {
  "kernelspec": {
   "display_name": "Python 3",
   "language": "python",
   "name": "python3"
  },
  "language_info": {
   "codemirror_mode": {
    "name": "ipython",
    "version": 3
   },
   "file_extension": ".py",
   "mimetype": "text/x-python",
   "name": "python",
   "nbconvert_exporter": "python",
   "pygments_lexer": "ipython3",
   "version": "3.7.10"
  },
  "papermill": {
   "default_parameters": {},
   "duration": 23497.471943,
   "end_time": "2021-10-31T09:44:03.369638",
   "environment_variables": {},
   "exception": null,
   "input_path": "__notebook__.ipynb",
   "output_path": "__notebook__.ipynb",
   "parameters": {},
   "start_time": "2021-10-31T03:12:25.897695",
   "version": "2.3.3"
  }
 },
 "nbformat": 4,
 "nbformat_minor": 5
}
